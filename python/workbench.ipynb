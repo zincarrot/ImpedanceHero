{
 "cells": [
  {
   "cell_type": "code",
   "execution_count": 8,
   "metadata": {},
   "outputs": [],
   "source": [
    "from impedancehero import ImpedanceHero as ih"
   ]
  },
  {
   "cell_type": "code",
   "execution_count": 7,
   "metadata": {},
   "outputs": [
    {
     "name": "stdout",
     "output_type": "stream",
     "text": [
      "The autoreload extension is already loaded. To reload it, use:\n",
      "  %reload_ext autoreload\n"
     ]
    }
   ],
   "source": [
    "%load_ext autoreload\n",
    "%autoreload 2"
   ]
  },
  {
   "cell_type": "code",
   "execution_count": 12,
   "metadata": {},
   "outputs": [],
   "source": [
    "data_RG=ih(itype=\"fma\")\n",
    "data_RG.loadfreq_jiang(\"./../raw_data/20210722_concept_4.6M/20210722_Parameter_Test_1.txt\")\n",
    "data_RG.loadfile(\"./../converted/20210722_Sensor0_Test_1.xlsx\")\n",
    "data_RG.writefile(\"./../converted/processed_1.csv\")\n",
    "# data_RG.fri2fma()\n"
   ]
  },
  {
   "cell_type": "code",
   "execution_count": 2,
   "metadata": {},
   "outputs": [
    {
     "name": "stderr",
     "output_type": "stream",
     "text": [
      "100%|██████████| 697/697 [00:17<00:00, 38.87it/s]\n"
     ]
    }
   ],
   "source": [
    "import os\n",
    "from tqdm import tqdm\n",
    "data_RG=ih(itype=\"fma\")\n",
    "data_RG.loadfreq_jiang(\"./../raw_data/20210722_concept_4.6M/20210722_Parameter_Test_1.txt\")\n",
    "\n",
    "for root, dirs, files in os.walk(\"./../converted/\"):\n",
    "    os.mkdir(os.path.join(root, \"processed\"))\n",
    "    for name in tqdm(files):\n",
    "        if name.split(\".\")[-1]==\"xlsx\":\n",
    "            # print(\"processing file:\", os.path.join(root, name))\n",
    "            data_RG.loadfile(os.path.join(root, name))\n",
    "            data_RG.writefile(os.path.join(root,\"processed\",name.replace(\".xlsx\",\".csv\")))"
   ]
  },
  {
   "cell_type": "code",
   "execution_count": 30,
   "metadata": {},
   "outputs": [
    {
     "data": {
      "text/plain": [
       "['eqmodel_test1', 'eqmodel_test2', 'eqmodel_test3']"
      ]
     },
     "execution_count": 30,
     "metadata": {},
     "output_type": "execute_result"
    }
   ],
   "source": [
    "testbuild=ih()\n",
    "testbuild.list_models()\n",
    "# testbuild.build_model([\"E\",\"R\", (\"R\",\"C\")], \"eqmodel_test1\")"
   ]
  }
 ],
 "metadata": {
  "kernelspec": {
   "display_name": "base",
   "language": "python",
   "name": "python3"
  },
  "language_info": {
   "codemirror_mode": {
    "name": "ipython",
    "version": 3
   },
   "file_extension": ".py",
   "mimetype": "text/x-python",
   "name": "python",
   "nbconvert_exporter": "python",
   "pygments_lexer": "ipython3",
   "version": "3.9.13"
  },
  "orig_nbformat": 4,
  "vscode": {
   "interpreter": {
    "hash": "66d0eae6b6f65ea5da037be26204395c18fae30d32f85bc6b60938f72cb94a02"
   }
  }
 },
 "nbformat": 4,
 "nbformat_minor": 2
}
