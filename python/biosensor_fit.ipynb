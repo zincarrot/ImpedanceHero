{
 "cells": [
  {
   "cell_type": "code",
   "execution_count": 14,
   "metadata": {},
   "outputs": [],
   "source": [
    "import process_raw as pr\n",
    "from impedance.models.circuits import Randles, CustomCircuit\n"
   ]
  },
  {
   "cell_type": "code",
   "execution_count": null,
   "metadata": {},
   "outputs": [],
   "source": [
    "pr.process_raw_all('..\\\\raw_data\\\\'+'9.15 Cell Growth')"
   ]
  },
  {
   "cell_type": "code",
   "execution_count": 15,
   "metadata": {},
   "outputs": [],
   "source": [
    "from impedance import preprocessing\n",
    "\n",
    "frequencies, Z = preprocessing.readCSV(r'../processed_data/9.15 Cell Growth/Sensor0_Test_1_data.csv')"
   ]
  },
  {
   "cell_type": "code",
   "execution_count": 18,
   "metadata": {},
   "outputs": [],
   "source": [
    "randlesCPE = Randles(initial_guess=[20, 20, .0001, .9, .001, 200], CPE=True)"
   ]
  },
  {
   "cell_type": "code",
   "execution_count": 20,
   "metadata": {},
   "outputs": [
    {
     "name": "stdout",
     "output_type": "stream",
     "text": [
      "\n",
      "Name: Randles w/ CPE\n",
      "Circuit string: R0-p(R1,CPE1)-Wo1\n",
      "Fit: True\n",
      "\n",
      "Initial guesses:\n",
      "     R0 = 2.00e+01 [Ohm]\n",
      "     R1 = 2.00e+01 [Ohm]\n",
      "  CPE1_0 = 1.00e-04 [Ohm^-1 sec^a]\n",
      "  CPE1_1 = 9.00e-01 []\n",
      "  Wo1_0 = 1.00e-03 [Ohm]\n",
      "  Wo1_1 = 2.00e+02 [sec]\n",
      "\n",
      "Fit parameters:\n",
      "     R0 = 1.07e+02  (+/- inf) [Ohm]\n",
      "     R1 = 7.58e-04  (+/- inf) [Ohm]\n",
      "  CPE1_0 = 3.28e-09  (+/- inf) [Ohm^-1 sec^a]\n",
      "  CPE1_1 = 1.05e-01  (+/- inf) []\n",
      "  Wo1_0 = 2.24e-14  (+/- inf) [Ohm]\n",
      "  Wo1_1 = 2.23e+02  (+/- inf) [sec]\n",
      "\n"
     ]
    }
   ],
   "source": [
    "randlesCPE.fit(frequencies, Z)\n",
    "print(randlesCPE)"
   ]
  },
  {
   "cell_type": "code",
   "execution_count": 21,
   "metadata": {},
   "outputs": [
    {
     "data": {
      "image/png": "[encoded data removed]",
      "text/plain": [
       "<Figure size 360x360 with 1 Axes>"
      ]
     },
     "metadata": {
      "needs_background": "light"
     },
     "output_type": "display_data"
    }
   ],
   "source": [
    "import matplotlib.pyplot as plt\n",
    "import numpy as np\n",
    "from impedance.visualization import plot_nyquist\n",
    "\n",
    "f_pred = np.logspace(6,2)\n",
    "\n",
    "# randles_fit = randles.predict(f_pred)\n",
    "randlesCPE_fit = randlesCPE.predict(f_pred)\n",
    "# customCircuit_fit = customCircuit.predict(f_pred)\n",
    "# customConstantCircuit_fit = customConstantCircuit.predict(f_pred)\n",
    "\n",
    "fig, ax = plt.subplots(figsize=(5,5))\n",
    "\n",
    "plot_nyquist(ax, Z)\n",
    "# plot_nyquist(ax, randles_fit, fmt='-')\n",
    "plot_nyquist(ax, randlesCPE_fit, fmt='-')\n",
    "# plot_nyquist(ax, customCircuit_fit, fmt='-')\n",
    "# plot_nyquist(ax, customConstantCircuit_fit, fmt='-')\n",
    "\n",
    "# ax.legend(['Data', 'Randles', 'Randles w/ CPE', 'Custom Circuit', 'Custom Circuit w/ Constant R0 and W1_1'])\n",
    "ax.legend(['Data', 'Randles w/ CPE'])\n",
    "plt.show()"
   ]
  }
 ],
 "metadata": {
  "kernelspec": {
   "display_name": "base",
   "language": "python",
   "name": "python3"
  },
  "language_info": {
   "codemirror_mode": {
    "name": "ipython",
    "version": 3
   },
   "file_extension": ".py",
   "mimetype": "text/x-python",
   "name": "python",
   "nbconvert_exporter": "python",
   "pygments_lexer": "ipython3",
   "version": "3.9.13 (main, Aug 25 2022, 18:29:29) \n[Clang 12.0.0 ]"
  },
  "orig_nbformat": 4,
  "vscode": {
   "interpreter": {
    "hash": "66d0eae6b6f65ea5da037be26204395c18fae30d32f85bc6b60938f72cb94a02"
   }
  }
 },
 "nbformat": 4,
 "nbformat_minor": 2
}
