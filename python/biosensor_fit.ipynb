{
 "cells": [
  {
   "cell_type": "code",
   "execution_count": 10,
   "metadata": {},
   "outputs": [],
   "source": [
    "import impedance\n",
    "import process_raw as pr"
   ]
  },
  {
   "cell_type": "code",
   "execution_count": 12,
   "metadata": {},
   "outputs": [
    {
     "name": "stderr",
     "output_type": "stream",
     "text": [
      "  0%|          | 3/710 [00:00<00:31, 22.79it/s]"
     ]
    },
    {
     "name": "stdout",
     "output_type": "stream",
     "text": [
      "..\\raw_data\\9.15 Cell Growth\\20190915_Sensor0_Test_1.xlsx\n",
      "..\\raw_data\\9.15 Cell Growth\\20190915_Sensor0_Test_10.xlsx\n",
      "..\\raw_data\\9.15 Cell Growth\\20190915_Sensor0_Test_100.xlsx\n",
      "..\\raw_data\\9.15 Cell Growth\\20190915_Sensor0_Test_101.xlsx\n"
     ]
    },
    {
     "name": "stderr",
     "output_type": "stream",
     "text": [
      "  1%|          | 6/710 [00:00<00:38, 18.24it/s]"
     ]
    },
    {
     "name": "stdout",
     "output_type": "stream",
     "text": [
      "..\\raw_data\\9.15 Cell Growth\\20190915_Sensor0_Test_102.xlsx\n",
      "..\\raw_data\\9.15 Cell Growth\\20190915_Sensor0_Test_103.xlsx\n",
      "..\\raw_data\\9.15 Cell Growth\\20190915_Sensor0_Test_104.xlsx\n"
     ]
    },
    {
     "name": "stderr",
     "output_type": "stream",
     "text": [
      "  1%|▏         | 10/710 [00:00<00:45, 15.46it/s]"
     ]
    },
    {
     "name": "stdout",
     "output_type": "stream",
     "text": [
      "..\\raw_data\\9.15 Cell Growth\\20190915_Sensor0_Test_105.xlsx\n",
      "..\\raw_data\\9.15 Cell Growth\\20190915_Sensor0_Test_106.xlsx\n",
      "..\\raw_data\\9.15 Cell Growth\\20190915_Sensor0_Test_107.xlsx\n"
     ]
    },
    {
     "name": "stderr",
     "output_type": "stream",
     "text": [
      "  2%|▏         | 12/710 [00:00<00:45, 15.18it/s]"
     ]
    },
    {
     "name": "stdout",
     "output_type": "stream",
     "text": [
      "..\\raw_data\\9.15 Cell Growth\\20190915_Sensor0_Test_108.xlsx\n",
      "..\\raw_data\\9.15 Cell Growth\\20190915_Sensor0_Test_109.xlsx\n",
      "..\\raw_data\\9.15 Cell Growth\\20190915_Sensor0_Test_11.xlsx\n"
     ]
    },
    {
     "name": "stderr",
     "output_type": "stream",
     "text": [
      "  2%|▏         | 16/710 [00:01<00:45, 15.18it/s]"
     ]
    },
    {
     "name": "stdout",
     "output_type": "stream",
     "text": [
      "..\\raw_data\\9.15 Cell Growth\\20190915_Sensor0_Test_110.xlsx\n",
      "..\\raw_data\\9.15 Cell Growth\\20190915_Sensor0_Test_111.xlsx\n",
      "..\\raw_data\\9.15 Cell Growth\\20190915_Sensor0_Test_112.xlsx\n",
      "..\\raw_data\\9.15 Cell Growth\\20190915_Sensor0_Test_113.xlsx\n"
     ]
    },
    {
     "name": "stderr",
     "output_type": "stream",
     "text": [
      "  3%|▎         | 20/710 [00:01<00:45, 15.21it/s]"
     ]
    },
    {
     "name": "stdout",
     "output_type": "stream",
     "text": [
      "..\\raw_data\\9.15 Cell Growth\\20190915_Sensor0_Test_114.xlsx\n",
      "..\\raw_data\\9.15 Cell Growth\\20190915_Sensor0_Test_115.xlsx\n",
      "..\\raw_data\\9.15 Cell Growth\\20190915_Sensor0_Test_116.xlsx\n",
      "..\\raw_data\\9.15 Cell Growth\\20190915_Sensor0_Test_117.xlsx\n"
     ]
    },
    {
     "name": "stderr",
     "output_type": "stream",
     "text": [
      "  3%|▎         | 24/710 [00:01<00:44, 15.54it/s]"
     ]
    },
    {
     "name": "stdout",
     "output_type": "stream",
     "text": [
      "..\\raw_data\\9.15 Cell Growth\\20190915_Sensor0_Test_118.xlsx\n",
      "..\\raw_data\\9.15 Cell Growth\\20190915_Sensor0_Test_119.xlsx\n",
      "..\\raw_data\\9.15 Cell Growth\\20190915_Sensor0_Test_12.xlsx\n",
      "..\\raw_data\\9.15 Cell Growth\\20190915_Sensor0_Test_120.xlsx\n"
     ]
    },
    {
     "name": "stderr",
     "output_type": "stream",
     "text": [
      "  4%|▍         | 28/710 [00:01<00:47, 14.47it/s]"
     ]
    },
    {
     "name": "stdout",
     "output_type": "stream",
     "text": [
      "..\\raw_data\\9.15 Cell Growth\\20190915_Sensor0_Test_121.xlsx\n",
      "..\\raw_data\\9.15 Cell Growth\\20190915_Sensor0_Test_122.xlsx\n",
      "..\\raw_data\\9.15 Cell Growth\\20190915_Sensor0_Test_123.xlsx\n"
     ]
    },
    {
     "name": "stderr",
     "output_type": "stream",
     "text": [
      "  5%|▍         | 32/710 [00:02<00:45, 14.85it/s]"
     ]
    },
    {
     "name": "stdout",
     "output_type": "stream",
     "text": [
      "..\\raw_data\\9.15 Cell Growth\\20190915_Sensor0_Test_124.xlsx\n",
      "..\\raw_data\\9.15 Cell Growth\\20190915_Sensor0_Test_125.xlsx\n",
      "..\\raw_data\\9.15 Cell Growth\\20190915_Sensor0_Test_126.xlsx\n"
     ]
    },
    {
     "name": "stderr",
     "output_type": "stream",
     "text": [
      "  5%|▍         | 34/710 [00:02<00:45, 14.85it/s]"
     ]
    },
    {
     "name": "stdout",
     "output_type": "stream",
     "text": [
      "..\\raw_data\\9.15 Cell Growth\\20190915_Sensor0_Test_127.xlsx\n",
      "..\\raw_data\\9.15 Cell Growth\\20190915_Sensor0_Test_128.xlsx\n",
      "..\\raw_data\\9.15 Cell Growth\\20190915_Sensor0_Test_129.xlsx\n",
      "..\\raw_data\\9.15 Cell Growth\\20190915_Sensor0_Test_13.xlsx\n"
     ]
    },
    {
     "name": "stderr",
     "output_type": "stream",
     "text": [
      "  5%|▌         | 38/710 [00:02<00:44, 15.23it/s]"
     ]
    },
    {
     "name": "stdout",
     "output_type": "stream",
     "text": [
      "..\\raw_data\\9.15 Cell Growth\\20190915_Sensor0_Test_130.xlsx\n",
      "..\\raw_data\\9.15 Cell Growth\\20190915_Sensor0_Test_131.xlsx\n",
      "..\\raw_data\\9.15 Cell Growth\\20190915_Sensor0_Test_132.xlsx\n",
      "..\\raw_data\\9.15 Cell Growth\\20190915_Sensor0_Test_133.xlsx\n"
     ]
    },
    {
     "name": "stderr",
     "output_type": "stream",
     "text": [
      "  6%|▌         | 42/710 [00:02<00:42, 15.67it/s]"
     ]
    },
    {
     "name": "stdout",
     "output_type": "stream",
     "text": [
      "..\\raw_data\\9.15 Cell Growth\\20190915_Sensor0_Test_134.xlsx\n",
      "..\\raw_data\\9.15 Cell Growth\\20190915_Sensor0_Test_135.xlsx\n",
      "..\\raw_data\\9.15 Cell Growth\\20190915_Sensor0_Test_136.xlsx\n",
      "..\\raw_data\\9.15 Cell Growth\\20190915_Sensor0_Test_137.xlsx\n"
     ]
    },
    {
     "name": "stderr",
     "output_type": "stream",
     "text": [
      "  6%|▋         | 46/710 [00:02<00:41, 15.93it/s]"
     ]
    },
    {
     "name": "stdout",
     "output_type": "stream",
     "text": [
      "..\\raw_data\\9.15 Cell Growth\\20190915_Sensor0_Test_138.xlsx\n",
      "..\\raw_data\\9.15 Cell Growth\\20190915_Sensor0_Test_139.xlsx\n",
      "..\\raw_data\\9.15 Cell Growth\\20190915_Sensor0_Test_14.xlsx\n",
      "..\\raw_data\\9.15 Cell Growth\\20190915_Sensor0_Test_140.xlsx\n"
     ]
    },
    {
     "name": "stderr",
     "output_type": "stream",
     "text": [
      "  7%|▋         | 50/710 [00:03<00:49, 13.27it/s]"
     ]
    },
    {
     "name": "stdout",
     "output_type": "stream",
     "text": [
      "..\\raw_data\\9.15 Cell Growth\\20190915_Sensor0_Test_141.xlsx\n",
      "..\\raw_data\\9.15 Cell Growth\\20190915_Sensor0_Test_142.xlsx\n"
     ]
    },
    {
     "name": "stderr",
     "output_type": "stream",
     "text": [
      "  7%|▋         | 52/710 [00:03<00:51, 12.76it/s]"
     ]
    },
    {
     "name": "stdout",
     "output_type": "stream",
     "text": [
      "..\\raw_data\\9.15 Cell Growth\\20190915_Sensor0_Test_143.xlsx\n",
      "..\\raw_data\\9.15 Cell Growth\\20190915_Sensor0_Test_144.xlsx\n",
      "..\\raw_data\\9.15 Cell Growth\\20190915_Sensor0_Test_145.xlsx\n"
     ]
    },
    {
     "name": "stderr",
     "output_type": "stream",
     "text": [
      "  8%|▊         | 54/710 [00:03<00:52, 12.50it/s]"
     ]
    },
    {
     "name": "stdout",
     "output_type": "stream",
     "text": [
      "..\\raw_data\\9.15 Cell Growth\\20190915_Sensor0_Test_146.xlsx\n",
      "..\\raw_data\\9.15 Cell Growth\\20190915_Sensor0_Test_147.xlsx\n",
      "..\\raw_data\\9.15 Cell Growth\\20190915_Sensor0_Test_148.xlsx\n"
     ]
    },
    {
     "name": "stderr",
     "output_type": "stream",
     "text": [
      "  8%|▊         | 58/710 [00:03<00:49, 13.09it/s]"
     ]
    },
    {
     "name": "stdout",
     "output_type": "stream",
     "text": [
      "..\\raw_data\\9.15 Cell Growth\\20190915_Sensor0_Test_149.xlsx\n",
      "..\\raw_data\\9.15 Cell Growth\\20190915_Sensor0_Test_15.xlsx\n",
      "..\\raw_data\\9.15 Cell Growth\\20190915_Sensor0_Test_150.xlsx\n"
     ]
    },
    {
     "name": "stderr",
     "output_type": "stream",
     "text": [
      "  8%|▊         | 60/710 [00:04<00:54, 11.93it/s]"
     ]
    },
    {
     "name": "stdout",
     "output_type": "stream",
     "text": [
      "..\\raw_data\\9.15 Cell Growth\\20190915_Sensor0_Test_151.xlsx\n",
      "..\\raw_data\\9.15 Cell Growth\\20190915_Sensor0_Test_152.xlsx\n",
      "..\\raw_data\\9.15 Cell Growth\\20190915_Sensor0_Test_153.xlsx\n"
     ]
    },
    {
     "name": "stderr",
     "output_type": "stream",
     "text": [
      "  9%|▉         | 64/710 [00:04<00:55, 11.73it/s]"
     ]
    },
    {
     "name": "stdout",
     "output_type": "stream",
     "text": [
      "..\\raw_data\\9.15 Cell Growth\\20190915_Sensor0_Test_154.xlsx\n",
      "..\\raw_data\\9.15 Cell Growth\\20190915_Sensor0_Test_155.xlsx\n",
      "..\\raw_data\\9.15 Cell Growth\\20190915_Sensor0_Test_156.xlsx\n"
     ]
    },
    {
     "name": "stderr",
     "output_type": "stream",
     "text": [
      "  9%|▉         | 66/710 [00:04<00:51, 12.56it/s]"
     ]
    },
    {
     "name": "stdout",
     "output_type": "stream",
     "text": [
      "..\\raw_data\\9.15 Cell Growth\\20190915_Sensor0_Test_157.xlsx\n",
      "..\\raw_data\\9.15 Cell Growth\\20190915_Sensor0_Test_158.xlsx\n",
      "..\\raw_data\\9.15 Cell Growth\\20190915_Sensor0_Test_159.xlsx\n"
     ]
    },
    {
     "name": "stderr",
     "output_type": "stream",
     "text": [
      " 10%|▉         | 70/710 [00:04<00:50, 12.58it/s]"
     ]
    },
    {
     "name": "stdout",
     "output_type": "stream",
     "text": [
      "..\\raw_data\\9.15 Cell Growth\\20190915_Sensor0_Test_16.xlsx\n",
      "..\\raw_data\\9.15 Cell Growth\\20190915_Sensor0_Test_160.xlsx\n",
      "..\\raw_data\\9.15 Cell Growth\\20190915_Sensor0_Test_161.xlsx\n"
     ]
    },
    {
     "name": "stderr",
     "output_type": "stream",
     "text": [
      " 10%|█         | 72/710 [00:05<00:52, 12.14it/s]"
     ]
    },
    {
     "name": "stdout",
     "output_type": "stream",
     "text": [
      "..\\raw_data\\9.15 Cell Growth\\20190915_Sensor0_Test_162.xlsx\n",
      "..\\raw_data\\9.15 Cell Growth\\20190915_Sensor0_Test_163.xlsx\n",
      "..\\raw_data\\9.15 Cell Growth\\20190915_Sensor0_Test_164.xlsx\n"
     ]
    },
    {
     "name": "stderr",
     "output_type": "stream",
     "text": [
      " 11%|█         | 76/710 [00:05<00:49, 12.94it/s]"
     ]
    },
    {
     "name": "stdout",
     "output_type": "stream",
     "text": [
      "..\\raw_data\\9.15 Cell Growth\\20190915_Sensor0_Test_165.xlsx\n",
      "..\\raw_data\\9.15 Cell Growth\\20190915_Sensor0_Test_166.xlsx\n",
      "..\\raw_data\\9.15 Cell Growth\\20190915_Sensor0_Test_167.xlsx\n",
      "..\\raw_data\\9.15 Cell Growth\\20190915_Sensor0_Test_168.xlsx\n"
     ]
    },
    {
     "name": "stderr",
     "output_type": "stream",
     "text": [
      " 11%|█▏        | 80/710 [00:05<00:45, 13.95it/s]"
     ]
    },
    {
     "name": "stdout",
     "output_type": "stream",
     "text": [
      "..\\raw_data\\9.15 Cell Growth\\20190915_Sensor0_Test_169.xlsx\n",
      "..\\raw_data\\9.15 Cell Growth\\20190915_Sensor0_Test_17.xlsx\n",
      "..\\raw_data\\9.15 Cell Growth\\20190915_Sensor0_Test_170.xlsx\n"
     ]
    },
    {
     "name": "stderr",
     "output_type": "stream",
     "text": [
      " 12%|█▏        | 84/710 [00:05<00:43, 14.51it/s]"
     ]
    },
    {
     "name": "stdout",
     "output_type": "stream",
     "text": [
      "..\\raw_data\\9.15 Cell Growth\\20190915_Sensor0_Test_171.xlsx\n",
      "..\\raw_data\\9.15 Cell Growth\\20190915_Sensor0_Test_172.xlsx\n",
      "..\\raw_data\\9.15 Cell Growth\\20190915_Sensor0_Test_173.xlsx\n"
     ]
    },
    {
     "name": "stderr",
     "output_type": "stream",
     "text": [
      " 12%|█▏        | 86/710 [00:06<00:41, 14.91it/s]"
     ]
    },
    {
     "name": "stdout",
     "output_type": "stream",
     "text": [
      "..\\raw_data\\9.15 Cell Growth\\20190915_Sensor0_Test_174.xlsx\n",
      "..\\raw_data\\9.15 Cell Growth\\20190915_Sensor0_Test_175.xlsx\n",
      "..\\raw_data\\9.15 Cell Growth\\20190915_Sensor0_Test_176.xlsx\n",
      "..\\raw_data\\9.15 Cell Growth\\20190915_Sensor0_Test_18.xlsx\n"
     ]
    },
    {
     "name": "stderr",
     "output_type": "stream",
     "text": [
      " 13%|█▎        | 90/710 [00:06<00:42, 14.66it/s]"
     ]
    },
    {
     "name": "stdout",
     "output_type": "stream",
     "text": [
      "..\\raw_data\\9.15 Cell Growth\\20190915_Sensor0_Test_19.xlsx\n",
      "..\\raw_data\\9.15 Cell Growth\\20190915_Sensor0_Test_2.xlsx\n",
      "..\\raw_data\\9.15 Cell Growth\\20190915_Sensor0_Test_20.xlsx\n"
     ]
    },
    {
     "name": "stderr",
     "output_type": "stream",
     "text": [
      " 13%|█▎        | 94/710 [00:06<00:43, 14.25it/s]"
     ]
    },
    {
     "name": "stdout",
     "output_type": "stream",
     "text": [
      "..\\raw_data\\9.15 Cell Growth\\20190915_Sensor0_Test_21.xlsx\n",
      "..\\raw_data\\9.15 Cell Growth\\20190915_Sensor0_Test_22.xlsx\n",
      "..\\raw_data\\9.15 Cell Growth\\20190915_Sensor0_Test_23.xlsx\n"
     ]
    },
    {
     "name": "stderr",
     "output_type": "stream",
     "text": [
      " 14%|█▎        | 96/710 [00:06<00:44, 13.95it/s]"
     ]
    },
    {
     "name": "stdout",
     "output_type": "stream",
     "text": [
      "..\\raw_data\\9.15 Cell Growth\\20190915_Sensor0_Test_24.xlsx\n",
      "..\\raw_data\\9.15 Cell Growth\\20190915_Sensor0_Test_25.xlsx\n",
      "..\\raw_data\\9.15 Cell Growth\\20190915_Sensor0_Test_26.xlsx\n"
     ]
    },
    {
     "name": "stderr",
     "output_type": "stream",
     "text": [
      " 14%|█▍        | 100/710 [00:07<00:42, 14.37it/s]"
     ]
    },
    {
     "name": "stdout",
     "output_type": "stream",
     "text": [
      "..\\raw_data\\9.15 Cell Growth\\20190915_Sensor0_Test_27.xlsx\n",
      "..\\raw_data\\9.15 Cell Growth\\20190915_Sensor0_Test_28.xlsx\n",
      "..\\raw_data\\9.15 Cell Growth\\20190915_Sensor0_Test_29.xlsx\n"
     ]
    },
    {
     "name": "stderr",
     "output_type": "stream",
     "text": [
      " 14%|█▍        | 102/710 [00:07<00:41, 14.57it/s]"
     ]
    },
    {
     "name": "stdout",
     "output_type": "stream",
     "text": [
      "..\\raw_data\\9.15 Cell Growth\\20190915_Sensor0_Test_3.xlsx\n",
      "..\\raw_data\\9.15 Cell Growth\\20190915_Sensor0_Test_30.xlsx\n",
      "..\\raw_data\\9.15 Cell Growth\\20190915_Sensor0_Test_31.xlsx\n",
      "..\\raw_data\\9.15 Cell Growth\\20190915_Sensor0_Test_32.xlsx\n"
     ]
    },
    {
     "name": "stderr",
     "output_type": "stream",
     "text": [
      " 15%|█▍        | 106/710 [00:07<00:40, 15.01it/s]"
     ]
    },
    {
     "name": "stdout",
     "output_type": "stream",
     "text": [
      "..\\raw_data\\9.15 Cell Growth\\20190915_Sensor0_Test_33.xlsx\n",
      "..\\raw_data\\9.15 Cell Growth\\20190915_Sensor0_Test_34.xlsx\n",
      "..\\raw_data\\9.15 Cell Growth\\20190915_Sensor0_Test_35.xlsx\n",
      "..\\raw_data\\9.15 Cell Growth\\20190915_Sensor0_Test_36.xlsx\n"
     ]
    },
    {
     "name": "stderr",
     "output_type": "stream",
     "text": [
      " 15%|█▌        | 110/710 [00:07<00:44, 13.61it/s]"
     ]
    },
    {
     "name": "stdout",
     "output_type": "stream",
     "text": [
      "..\\raw_data\\9.15 Cell Growth\\20190915_Sensor0_Test_37.xlsx\n",
      "..\\raw_data\\9.15 Cell Growth\\20190915_Sensor0_Test_38.xlsx\n"
     ]
    },
    {
     "name": "stderr",
     "output_type": "stream",
     "text": [
      " 16%|█▌        | 112/710 [00:07<00:47, 12.60it/s]"
     ]
    },
    {
     "name": "stdout",
     "output_type": "stream",
     "text": [
      "..\\raw_data\\9.15 Cell Growth\\20190915_Sensor0_Test_39.xlsx\n",
      "..\\raw_data\\9.15 Cell Growth\\20190915_Sensor0_Test_4.xlsx\n"
     ]
    },
    {
     "name": "stderr",
     "output_type": "stream",
     "text": [
      " 16%|█▌        | 114/710 [00:08<00:45, 12.97it/s]"
     ]
    },
    {
     "name": "stdout",
     "output_type": "stream",
     "text": [
      "..\\raw_data\\9.15 Cell Growth\\20190915_Sensor0_Test_40.xlsx\n",
      "..\\raw_data\\9.15 Cell Growth\\20190915_Sensor0_Test_41.xlsx\n",
      "..\\raw_data\\9.15 Cell Growth\\20190915_Sensor0_Test_42.xlsx\n"
     ]
    },
    {
     "name": "stderr",
     "output_type": "stream",
     "text": [
      " 17%|█▋        | 118/710 [00:08<00:41, 14.13it/s]"
     ]
    },
    {
     "name": "stdout",
     "output_type": "stream",
     "text": [
      "..\\raw_data\\9.15 Cell Growth\\20190915_Sensor0_Test_43.xlsx\n",
      "..\\raw_data\\9.15 Cell Growth\\20190915_Sensor0_Test_44.xlsx\n",
      "..\\raw_data\\9.15 Cell Growth\\20190915_Sensor0_Test_45.xlsx\n"
     ]
    },
    {
     "name": "stderr",
     "output_type": "stream",
     "text": [
      " 17%|█▋        | 120/710 [00:08<00:40, 14.56it/s]"
     ]
    },
    {
     "name": "stdout",
     "output_type": "stream",
     "text": [
      "..\\raw_data\\9.15 Cell Growth\\20190915_Sensor0_Test_46.xlsx\n",
      "..\\raw_data\\9.15 Cell Growth\\20190915_Sensor0_Test_47.xlsx\n",
      "..\\raw_data\\9.15 Cell Growth\\20190915_Sensor0_Test_48.xlsx\n"
     ]
    },
    {
     "name": "stderr",
     "output_type": "stream",
     "text": [
      " 17%|█▋        | 124/710 [00:08<00:38, 15.12it/s]"
     ]
    },
    {
     "name": "stdout",
     "output_type": "stream",
     "text": [
      "..\\raw_data\\9.15 Cell Growth\\20190915_Sensor0_Test_49.xlsx\n",
      "..\\raw_data\\9.15 Cell Growth\\20190915_Sensor0_Test_5.xlsx\n",
      "..\\raw_data\\9.15 Cell Growth\\20190915_Sensor0_Test_50.xlsx\n"
     ]
    },
    {
     "name": "stderr",
     "output_type": "stream",
     "text": [
      " 18%|█▊        | 126/710 [00:08<00:37, 15.42it/s]"
     ]
    },
    {
     "name": "stdout",
     "output_type": "stream",
     "text": [
      "..\\raw_data\\9.15 Cell Growth\\20190915_Sensor0_Test_51.xlsx\n",
      "..\\raw_data\\9.15 Cell Growth\\20190915_Sensor0_Test_52.xlsx\n",
      "..\\raw_data\\9.15 Cell Growth\\20190915_Sensor0_Test_53.xlsx\n"
     ]
    },
    {
     "name": "stderr",
     "output_type": "stream",
     "text": [
      " 18%|█▊        | 130/710 [00:09<00:39, 14.55it/s]"
     ]
    },
    {
     "name": "stdout",
     "output_type": "stream",
     "text": [
      "..\\raw_data\\9.15 Cell Growth\\20190915_Sensor0_Test_54.xlsx\n",
      "..\\raw_data\\9.15 Cell Growth\\20190915_Sensor0_Test_55.xlsx\n",
      "..\\raw_data\\9.15 Cell Growth\\20190915_Sensor0_Test_56.xlsx\n"
     ]
    },
    {
     "name": "stderr",
     "output_type": "stream",
     "text": [
      " 19%|█▊        | 132/710 [00:09<00:38, 14.87it/s]"
     ]
    },
    {
     "name": "stdout",
     "output_type": "stream",
     "text": [
      "..\\raw_data\\9.15 Cell Growth\\20190915_Sensor0_Test_57.xlsx\n",
      "..\\raw_data\\9.15 Cell Growth\\20190915_Sensor0_Test_58.xlsx\n",
      "..\\raw_data\\9.15 Cell Growth\\20190915_Sensor0_Test_59.xlsx\n",
      "..\\raw_data\\9.15 Cell Growth\\20190915_Sensor0_Test_6.xlsx\n"
     ]
    },
    {
     "name": "stderr",
     "output_type": "stream",
     "text": [
      " 19%|█▉        | 136/710 [00:09<00:37, 15.11it/s]"
     ]
    },
    {
     "name": "stdout",
     "output_type": "stream",
     "text": [
      "..\\raw_data\\9.15 Cell Growth\\20190915_Sensor0_Test_60.xlsx\n",
      "..\\raw_data\\9.15 Cell Growth\\20190915_Sensor0_Test_61.xlsx\n",
      "..\\raw_data\\9.15 Cell Growth\\20190915_Sensor0_Test_62.xlsx\n"
     ]
    },
    {
     "name": "stderr",
     "output_type": "stream",
     "text": [
      " 20%|█▉        | 140/710 [00:09<00:38, 14.94it/s]"
     ]
    },
    {
     "name": "stdout",
     "output_type": "stream",
     "text": [
      "..\\raw_data\\9.15 Cell Growth\\20190915_Sensor0_Test_63.xlsx\n",
      "..\\raw_data\\9.15 Cell Growth\\20190915_Sensor0_Test_64.xlsx\n",
      "..\\raw_data\\9.15 Cell Growth\\20190915_Sensor0_Test_65.xlsx\n"
     ]
    },
    {
     "name": "stderr",
     "output_type": "stream",
     "text": [
      " 20%|██        | 142/710 [00:09<00:37, 15.25it/s]"
     ]
    },
    {
     "name": "stdout",
     "output_type": "stream",
     "text": [
      "..\\raw_data\\9.15 Cell Growth\\20190915_Sensor0_Test_66.xlsx\n",
      "..\\raw_data\\9.15 Cell Growth\\20190915_Sensor0_Test_67.xlsx\n",
      "..\\raw_data\\9.15 Cell Growth\\20190915_Sensor0_Test_68.xlsx\n",
      "..\\raw_data\\9.15 Cell Growth\\20190915_Sensor0_Test_69.xlsx"
     ]
    },
    {
     "name": "stderr",
     "output_type": "stream",
     "text": [
      " 21%|██        | 146/710 [00:10<00:37, 15.08it/s]"
     ]
    },
    {
     "name": "stdout",
     "output_type": "stream",
     "text": [
      "\n",
      "..\\raw_data\\9.15 Cell Growth\\20190915_Sensor0_Test_7.xlsx\n",
      "..\\raw_data\\9.15 Cell Growth\\20190915_Sensor0_Test_70.xlsx\n"
     ]
    },
    {
     "name": "stderr",
     "output_type": "stream",
     "text": [
      " 21%|██        | 148/710 [00:10<00:40, 13.72it/s]"
     ]
    },
    {
     "name": "stdout",
     "output_type": "stream",
     "text": [
      "..\\raw_data\\9.15 Cell Growth\\20190915_Sensor0_Test_71.xlsx\n",
      "..\\raw_data\\9.15 Cell Growth\\20190915_Sensor0_Test_72.xlsx\n",
      "..\\raw_data\\9.15 Cell Growth\\20190915_Sensor0_Test_73.xlsx\n"
     ]
    },
    {
     "name": "stderr",
     "output_type": "stream",
     "text": [
      " 21%|██        | 150/710 [00:10<00:44, 12.51it/s]"
     ]
    },
    {
     "name": "stdout",
     "output_type": "stream",
     "text": [
      "..\\raw_data\\9.15 Cell Growth\\20190915_Sensor0_Test_74.xlsx\n",
      "..\\raw_data\\9.15 Cell Growth\\20190915_Sensor0_Test_75.xlsx\n",
      "..\\raw_data\\9.15 Cell Growth\\20190915_Sensor0_Test_76.xlsx\n"
     ]
    },
    {
     "name": "stderr",
     "output_type": "stream",
     "text": [
      " 22%|██▏       | 154/710 [00:10<00:40, 13.66it/s]"
     ]
    },
    {
     "name": "stdout",
     "output_type": "stream",
     "text": [
      "..\\raw_data\\9.15 Cell Growth\\20190915_Sensor0_Test_77.xlsx\n",
      "..\\raw_data\\9.15 Cell Growth\\20190915_Sensor0_Test_78.xlsx\n",
      "..\\raw_data\\9.15 Cell Growth\\20190915_Sensor0_Test_79.xlsx\n",
      "..\\raw_data\\9.15 Cell Growth\\20190915_Sensor0_Test_8.xlsx\n"
     ]
    },
    {
     "name": "stderr",
     "output_type": "stream",
     "text": [
      " 22%|██▏       | 158/710 [00:11<00:42, 12.99it/s]"
     ]
    },
    {
     "name": "stdout",
     "output_type": "stream",
     "text": [
      "..\\raw_data\\9.15 Cell Growth\\20190915_Sensor0_Test_80.xlsx\n",
      "..\\raw_data\\9.15 Cell Growth\\20190915_Sensor0_Test_81.xlsx\n",
      "..\\raw_data\\9.15 Cell Growth\\20190915_Sensor0_Test_82.xlsx\n"
     ]
    },
    {
     "name": "stderr",
     "output_type": "stream",
     "text": [
      " 23%|██▎       | 162/710 [00:11<00:39, 13.91it/s]"
     ]
    },
    {
     "name": "stdout",
     "output_type": "stream",
     "text": [
      "..\\raw_data\\9.15 Cell Growth\\20190915_Sensor0_Test_83.xlsx\n",
      "..\\raw_data\\9.15 Cell Growth\\20190915_Sensor0_Test_84.xlsx\n",
      "..\\raw_data\\9.15 Cell Growth\\20190915_Sensor0_Test_85.xlsx\n"
     ]
    },
    {
     "name": "stderr",
     "output_type": "stream",
     "text": [
      " 23%|██▎       | 164/710 [00:11<00:37, 14.46it/s]"
     ]
    },
    {
     "name": "stdout",
     "output_type": "stream",
     "text": [
      "..\\raw_data\\9.15 Cell Growth\\20190915_Sensor0_Test_86.xlsx\n",
      "..\\raw_data\\9.15 Cell Growth\\20190915_Sensor0_Test_87.xlsx\n",
      "..\\raw_data\\9.15 Cell Growth\\20190915_Sensor0_Test_88.xlsx\n",
      "..\\raw_data\\9.15 Cell Growth\\20190915_Sensor0_Test_89.xlsx\n"
     ]
    },
    {
     "name": "stderr",
     "output_type": "stream",
     "text": [
      " 24%|██▎       | 168/710 [00:11<00:41, 13.11it/s]"
     ]
    },
    {
     "name": "stdout",
     "output_type": "stream",
     "text": [
      "..\\raw_data\\9.15 Cell Growth\\20190915_Sensor0_Test_9.xlsx\n",
      "..\\raw_data\\9.15 Cell Growth\\20190915_Sensor0_Test_90.xlsx\n"
     ]
    },
    {
     "name": "stderr",
     "output_type": "stream",
     "text": [
      " 24%|██▍       | 170/710 [00:12<00:41, 12.98it/s]"
     ]
    },
    {
     "name": "stdout",
     "output_type": "stream",
     "text": [
      "..\\raw_data\\9.15 Cell Growth\\20190915_Sensor0_Test_91.xlsx\n",
      "..\\raw_data\\9.15 Cell Growth\\20190915_Sensor0_Test_92.xlsx\n",
      "..\\raw_data\\9.15 Cell Growth\\20190915_Sensor0_Test_93.xlsx\n"
     ]
    },
    {
     "name": "stderr",
     "output_type": "stream",
     "text": [
      " 24%|██▍       | 172/710 [00:12<00:40, 13.25it/s]"
     ]
    },
    {
     "name": "stdout",
     "output_type": "stream",
     "text": [
      "..\\raw_data\\9.15 Cell Growth\\20190915_Sensor0_Test_94.xlsx\n",
      "..\\raw_data\\9.15 Cell Growth\\20190915_Sensor0_Test_95.xlsx\n",
      "..\\raw_data\\9.15 Cell Growth\\20190915_Sensor0_Test_96.xlsx\n"
     ]
    },
    {
     "name": "stderr",
     "output_type": "stream",
     "text": [
      " 25%|██▍       | 176/710 [00:12<00:38, 14.00it/s]"
     ]
    },
    {
     "name": "stdout",
     "output_type": "stream",
     "text": [
      "..\\raw_data\\9.15 Cell Growth\\20190915_Sensor0_Test_97.xlsx\n",
      "..\\raw_data\\9.15 Cell Growth\\20190915_Sensor0_Test_98.xlsx\n",
      "..\\raw_data\\9.15 Cell Growth\\20190915_Sensor0_Test_99.xlsx\n",
      "..\\raw_data\\9.15 Cell Growth\\20190915_Sensor1_Test_1.xlsx\n"
     ]
    },
    {
     "name": "stderr",
     "output_type": "stream",
     "text": [
      " 25%|██▌       | 180/710 [00:12<00:36, 14.47it/s]"
     ]
    },
    {
     "name": "stdout",
     "output_type": "stream",
     "text": [
      "..\\raw_data\\9.15 Cell Growth\\20190915_Sensor1_Test_10.xlsx\n",
      "..\\raw_data\\9.15 Cell Growth\\20190915_Sensor1_Test_100.xlsx\n",
      "..\\raw_data\\9.15 Cell Growth\\20190915_Sensor1_Test_101.xlsx\n"
     ]
    },
    {
     "name": "stderr",
     "output_type": "stream",
     "text": [
      " 26%|██▌       | 182/710 [00:12<00:36, 14.42it/s]"
     ]
    },
    {
     "name": "stdout",
     "output_type": "stream",
     "text": [
      "..\\raw_data\\9.15 Cell Growth\\20190915_Sensor1_Test_102.xlsx\n",
      "..\\raw_data\\9.15 Cell Growth\\20190915_Sensor1_Test_103.xlsx\n",
      "..\\raw_data\\9.15 Cell Growth\\20190915_Sensor1_Test_104.xlsx\n"
     ]
    },
    {
     "name": "stderr",
     "output_type": "stream",
     "text": [
      " 26%|██▌       | 186/710 [00:13<00:36, 14.52it/s]"
     ]
    },
    {
     "name": "stdout",
     "output_type": "stream",
     "text": [
      "..\\raw_data\\9.15 Cell Growth\\20190915_Sensor1_Test_105.xlsx\n",
      "..\\raw_data\\9.15 Cell Growth\\20190915_Sensor1_Test_106.xlsx\n",
      "..\\raw_data\\9.15 Cell Growth\\20190915_Sensor1_Test_107.xlsx\n"
     ]
    },
    {
     "name": "stderr",
     "output_type": "stream",
     "text": [
      " 26%|██▋       | 188/710 [00:13<00:35, 14.78it/s]"
     ]
    },
    {
     "name": "stdout",
     "output_type": "stream",
     "text": [
      "..\\raw_data\\9.15 Cell Growth\\20190915_Sensor1_Test_108.xlsx\n",
      "..\\raw_data\\9.15 Cell Growth\\20190915_Sensor1_Test_109.xlsx\n",
      "..\\raw_data\\9.15 Cell Growth\\20190915_Sensor1_Test_11.xlsx\n"
     ]
    },
    {
     "name": "stderr",
     "output_type": "stream",
     "text": [
      " 27%|██▋       | 192/710 [00:13<00:35, 14.53it/s]"
     ]
    },
    {
     "name": "stdout",
     "output_type": "stream",
     "text": [
      "..\\raw_data\\9.15 Cell Growth\\20190915_Sensor1_Test_110.xlsx\n",
      "..\\raw_data\\9.15 Cell Growth\\20190915_Sensor1_Test_111.xlsx\n",
      "..\\raw_data\\9.15 Cell Growth\\20190915_Sensor1_Test_112.xlsx\n",
      "..\\raw_data\\9.15 Cell Growth\\20190915_Sensor1_Test_113.xlsx\n"
     ]
    },
    {
     "name": "stderr",
     "output_type": "stream",
     "text": [
      " 28%|██▊       | 196/710 [00:13<00:34, 14.80it/s]"
     ]
    },
    {
     "name": "stdout",
     "output_type": "stream",
     "text": [
      "..\\raw_data\\9.15 Cell Growth\\20190915_Sensor1_Test_114.xlsx\n",
      "..\\raw_data\\9.15 Cell Growth\\20190915_Sensor1_Test_115.xlsx\n",
      "..\\raw_data\\9.15 Cell Growth\\20190915_Sensor1_Test_116.xlsx\n",
      "..\\raw_data\\9.15 Cell Growth\\20190915_Sensor1_Test_117.xlsx\n"
     ]
    },
    {
     "name": "stderr",
     "output_type": "stream",
     "text": [
      " 28%|██▊       | 200/710 [00:14<00:34, 14.96it/s]"
     ]
    },
    {
     "name": "stdout",
     "output_type": "stream",
     "text": [
      "..\\raw_data\\9.15 Cell Growth\\20190915_Sensor1_Test_118.xlsx\n",
      "..\\raw_data\\9.15 Cell Growth\\20190915_Sensor1_Test_119.xlsx\n"
     ]
    },
    {
     "name": "stderr",
     "output_type": "stream",
     "text": [
      " 28%|██▊       | 202/710 [00:14<00:33, 15.23it/s]"
     ]
    },
    {
     "name": "stdout",
     "output_type": "stream",
     "text": [
      "..\\raw_data\\9.15 Cell Growth\\20190915_Sensor1_Test_12.xlsx\n",
      "..\\raw_data\\9.15 Cell Growth\\20190915_Sensor1_Test_120.xlsx\n",
      "..\\raw_data\\9.15 Cell Growth\\20190915_Sensor1_Test_121.xlsx\n",
      "..\\raw_data\\9.15 Cell Growth\\20190915_Sensor1_Test_122.xlsx\n"
     ]
    },
    {
     "name": "stderr",
     "output_type": "stream",
     "text": [
      " 29%|██▉       | 206/710 [00:14<00:33, 14.99it/s]"
     ]
    },
    {
     "name": "stdout",
     "output_type": "stream",
     "text": [
      "..\\raw_data\\9.15 Cell Growth\\20190915_Sensor1_Test_123.xlsx\n",
      "..\\raw_data\\9.15 Cell Growth\\20190915_Sensor1_Test_124.xlsx\n",
      "..\\raw_data\\9.15 Cell Growth\\20190915_Sensor1_Test_125.xlsx\n",
      "..\\raw_data\\9.15 Cell Growth\\20190915_Sensor1_Test_126.xlsx"
     ]
    },
    {
     "name": "stderr",
     "output_type": "stream",
     "text": [
      " 30%|██▉       | 210/710 [00:14<00:32, 15.19it/s]"
     ]
    },
    {
     "name": "stdout",
     "output_type": "stream",
     "text": [
      "\n",
      "..\\raw_data\\9.15 Cell Growth\\20190915_Sensor1_Test_127.xlsx\n",
      "..\\raw_data\\9.15 Cell Growth\\20190915_Sensor1_Test_128.xlsx\n"
     ]
    },
    {
     "name": "stderr",
     "output_type": "stream",
     "text": [
      " 30%|██▉       | 212/710 [00:14<00:32, 15.26it/s]"
     ]
    },
    {
     "name": "stdout",
     "output_type": "stream",
     "text": [
      "..\\raw_data\\9.15 Cell Growth\\20190915_Sensor1_Test_129.xlsx\n",
      "..\\raw_data\\9.15 Cell Growth\\20190915_Sensor1_Test_13.xlsx\n",
      "..\\raw_data\\9.15 Cell Growth\\20190915_Sensor1_Test_130.xlsx\n"
     ]
    },
    {
     "name": "stderr",
     "output_type": "stream",
     "text": [
      " 30%|███       | 214/710 [00:15<00:34, 14.39it/s]"
     ]
    },
    {
     "name": "stdout",
     "output_type": "stream",
     "text": [
      "..\\raw_data\\9.15 Cell Growth\\20190915_Sensor1_Test_131.xlsx\n",
      "..\\raw_data\\9.15 Cell Growth\\20190915_Sensor1_Test_132.xlsx\n",
      "..\\raw_data\\9.15 Cell Growth\\20190915_Sensor1_Test_133.xlsx\n"
     ]
    },
    {
     "name": "stderr",
     "output_type": "stream",
     "text": [
      " 31%|███       | 218/710 [00:15<00:33, 14.72it/s]"
     ]
    },
    {
     "name": "stdout",
     "output_type": "stream",
     "text": [
      "..\\raw_data\\9.15 Cell Growth\\20190915_Sensor1_Test_134.xlsx\n",
      "..\\raw_data\\9.15 Cell Growth\\20190915_Sensor1_Test_135.xlsx\n",
      "..\\raw_data\\9.15 Cell Growth\\20190915_Sensor1_Test_136.xlsx\n"
     ]
    },
    {
     "name": "stderr",
     "output_type": "stream",
     "text": [
      " 31%|███       | 220/710 [00:15<00:33, 14.76it/s]"
     ]
    },
    {
     "name": "stdout",
     "output_type": "stream",
     "text": [
      "..\\raw_data\\9.15 Cell Growth\\20190915_Sensor1_Test_137.xlsx\n",
      "..\\raw_data\\9.15 Cell Growth\\20190915_Sensor1_Test_138.xlsx\n",
      "..\\raw_data\\9.15 Cell Growth\\20190915_Sensor1_Test_139.xlsx\n"
     ]
    },
    {
     "name": "stderr",
     "output_type": "stream",
     "text": [
      " 32%|███▏      | 224/710 [00:15<00:32, 15.00it/s]"
     ]
    },
    {
     "name": "stdout",
     "output_type": "stream",
     "text": [
      "..\\raw_data\\9.15 Cell Growth\\20190915_Sensor1_Test_14.xlsx\n",
      "..\\raw_data\\9.15 Cell Growth\\20190915_Sensor1_Test_140.xlsx\n",
      "..\\raw_data\\9.15 Cell Growth\\20190915_Sensor1_Test_141.xlsx\n",
      "..\\raw_data\\9.15 Cell Growth\\20190915_Sensor1_Test_142.xlsx\n"
     ]
    },
    {
     "name": "stderr",
     "output_type": "stream",
     "text": [
      " 32%|███▏      | 228/710 [00:15<00:31, 15.23it/s]"
     ]
    },
    {
     "name": "stdout",
     "output_type": "stream",
     "text": [
      "..\\raw_data\\9.15 Cell Growth\\20190915_Sensor1_Test_143.xlsx\n",
      "..\\raw_data\\9.15 Cell Growth\\20190915_Sensor1_Test_144.xlsx\n",
      "..\\raw_data\\9.15 Cell Growth\\20190915_Sensor1_Test_145.xlsx\n",
      "..\\raw_data\\9.15 Cell Growth\\20190915_Sensor1_Test_146.xlsx\n"
     ]
    },
    {
     "name": "stderr",
     "output_type": "stream",
     "text": [
      " 33%|███▎      | 232/710 [00:16<00:31, 15.18it/s]"
     ]
    },
    {
     "name": "stdout",
     "output_type": "stream",
     "text": [
      "..\\raw_data\\9.15 Cell Growth\\20190915_Sensor1_Test_147.xlsx\n",
      "..\\raw_data\\9.15 Cell Growth\\20190915_Sensor1_Test_148.xlsx\n",
      "..\\raw_data\\9.15 Cell Growth\\20190915_Sensor1_Test_149.xlsx\n",
      "..\\raw_data\\9.15 Cell Growth\\20190915_Sensor1_Test_15.xlsx\n"
     ]
    },
    {
     "name": "stderr",
     "output_type": "stream",
     "text": [
      " 33%|███▎      | 236/710 [00:16<00:31, 15.03it/s]"
     ]
    },
    {
     "name": "stdout",
     "output_type": "stream",
     "text": [
      "..\\raw_data\\9.15 Cell Growth\\20190915_Sensor1_Test_150.xlsx\n",
      "..\\raw_data\\9.15 Cell Growth\\20190915_Sensor1_Test_151.xlsx\n",
      "..\\raw_data\\9.15 Cell Growth\\20190915_Sensor1_Test_152.xlsx\n"
     ]
    },
    {
     "name": "stderr",
     "output_type": "stream",
     "text": [
      " 34%|███▍      | 240/710 [00:16<00:31, 14.87it/s]"
     ]
    },
    {
     "name": "stdout",
     "output_type": "stream",
     "text": [
      "..\\raw_data\\9.15 Cell Growth\\20190915_Sensor1_Test_153.xlsx\n",
      "..\\raw_data\\9.15 Cell Growth\\20190915_Sensor1_Test_154.xlsx\n",
      "..\\raw_data\\9.15 Cell Growth\\20190915_Sensor1_Test_155.xlsx\n"
     ]
    },
    {
     "name": "stderr",
     "output_type": "stream",
     "text": [
      " 34%|███▍      | 242/710 [00:16<00:30, 15.24it/s]"
     ]
    },
    {
     "name": "stdout",
     "output_type": "stream",
     "text": [
      "..\\raw_data\\9.15 Cell Growth\\20190915_Sensor1_Test_156.xlsx\n",
      "..\\raw_data\\9.15 Cell Growth\\20190915_Sensor1_Test_157.xlsx\n",
      "..\\raw_data\\9.15 Cell Growth\\20190915_Sensor1_Test_158.xlsx\n",
      "..\\raw_data\\9.15 Cell Growth\\20190915_Sensor1_Test_159.xlsx\n"
     ]
    },
    {
     "name": "stderr",
     "output_type": "stream",
     "text": [
      " 35%|███▍      | 246/710 [00:17<00:29, 15.49it/s]"
     ]
    },
    {
     "name": "stdout",
     "output_type": "stream",
     "text": [
      "..\\raw_data\\9.15 Cell Growth\\20190915_Sensor1_Test_16.xlsx\n",
      "..\\raw_data\\9.15 Cell Growth\\20190915_Sensor1_Test_160.xlsx\n",
      "..\\raw_data\\9.15 Cell Growth\\20190915_Sensor1_Test_161.xlsx\n",
      "..\\raw_data\\9.15 Cell Growth\\20190915_Sensor1_Test_162.xlsx\n"
     ]
    },
    {
     "name": "stderr",
     "output_type": "stream",
     "text": [
      " 35%|███▌      | 250/710 [00:17<00:29, 15.71it/s]"
     ]
    },
    {
     "name": "stdout",
     "output_type": "stream",
     "text": [
      "..\\raw_data\\9.15 Cell Growth\\20190915_Sensor1_Test_163.xlsx\n",
      "..\\raw_data\\9.15 Cell Growth\\20190915_Sensor1_Test_164.xlsx\n",
      "..\\raw_data\\9.15 Cell Growth\\20190915_Sensor1_Test_165.xlsx\n",
      "..\\raw_data\\9.15 Cell Growth\\20190915_Sensor1_Test_166.xlsx\n"
     ]
    },
    {
     "name": "stderr",
     "output_type": "stream",
     "text": [
      " 36%|███▌      | 254/710 [00:17<00:28, 15.94it/s]"
     ]
    },
    {
     "name": "stdout",
     "output_type": "stream",
     "text": [
      "..\\raw_data\\9.15 Cell Growth\\20190915_Sensor1_Test_167.xlsx\n",
      "..\\raw_data\\9.15 Cell Growth\\20190915_Sensor1_Test_168.xlsx\n",
      "..\\raw_data\\9.15 Cell Growth\\20190915_Sensor1_Test_169.xlsx\n",
      "..\\raw_data\\9.15 Cell Growth\\20190915_Sensor1_Test_17.xlsx\n"
     ]
    },
    {
     "name": "stderr",
     "output_type": "stream",
     "text": [
      " 36%|███▋      | 258/710 [00:17<00:30, 14.82it/s]"
     ]
    },
    {
     "name": "stdout",
     "output_type": "stream",
     "text": [
      "..\\raw_data\\9.15 Cell Growth\\20190915_Sensor1_Test_170.xlsx\n",
      "..\\raw_data\\9.15 Cell Growth\\20190915_Sensor1_Test_171.xlsx\n",
      "..\\raw_data\\9.15 Cell Growth\\20190915_Sensor1_Test_172.xlsx\n"
     ]
    },
    {
     "name": "stderr",
     "output_type": "stream",
     "text": [
      " 37%|███▋      | 260/710 [00:18<00:29, 15.13it/s]"
     ]
    },
    {
     "name": "stdout",
     "output_type": "stream",
     "text": [
      "..\\raw_data\\9.15 Cell Growth\\20190915_Sensor1_Test_173.xlsx\n",
      "..\\raw_data\\9.15 Cell Growth\\20190915_Sensor1_Test_174.xlsx\n",
      "..\\raw_data\\9.15 Cell Growth\\20190915_Sensor1_Test_175.xlsx\n"
     ]
    },
    {
     "name": "stderr",
     "output_type": "stream",
     "text": [
      " 37%|███▋      | 264/710 [00:18<00:28, 15.70it/s]"
     ]
    },
    {
     "name": "stdout",
     "output_type": "stream",
     "text": [
      "..\\raw_data\\9.15 Cell Growth\\20190915_Sensor1_Test_176.xlsx\n",
      "..\\raw_data\\9.15 Cell Growth\\20190915_Sensor1_Test_18.xlsx\n",
      "..\\raw_data\\9.15 Cell Growth\\20190915_Sensor1_Test_19.xlsx\n",
      "..\\raw_data\\9.15 Cell Growth\\20190915_Sensor1_Test_2.xlsx\n"
     ]
    },
    {
     "name": "stderr",
     "output_type": "stream",
     "text": [
      " 38%|███▊      | 268/710 [00:18<00:28, 15.64it/s]"
     ]
    },
    {
     "name": "stdout",
     "output_type": "stream",
     "text": [
      "..\\raw_data\\9.15 Cell Growth\\20190915_Sensor1_Test_20.xlsx\n",
      "..\\raw_data\\9.15 Cell Growth\\20190915_Sensor1_Test_21.xlsx\n",
      "..\\raw_data\\9.15 Cell Growth\\20190915_Sensor1_Test_22.xlsx\n",
      "..\\raw_data\\9.15 Cell Growth\\20190915_Sensor1_Test_23.xlsx\n"
     ]
    },
    {
     "name": "stderr",
     "output_type": "stream",
     "text": [
      " 38%|███▊      | 272/710 [00:18<00:27, 15.83it/s]"
     ]
    },
    {
     "name": "stdout",
     "output_type": "stream",
     "text": [
      "..\\raw_data\\9.15 Cell Growth\\20190915_Sensor1_Test_24.xlsx\n",
      "..\\raw_data\\9.15 Cell Growth\\20190915_Sensor1_Test_25.xlsx\n",
      "..\\raw_data\\9.15 Cell Growth\\20190915_Sensor1_Test_26.xlsx\n",
      "..\\raw_data\\9.15 Cell Growth\\20190915_Sensor1_Test_27.xlsx\n"
     ]
    },
    {
     "name": "stderr",
     "output_type": "stream",
     "text": [
      " 39%|███▉      | 276/710 [00:19<00:29, 14.50it/s]"
     ]
    },
    {
     "name": "stdout",
     "output_type": "stream",
     "text": [
      "..\\raw_data\\9.15 Cell Growth\\20190915_Sensor1_Test_28.xlsx\n",
      "..\\raw_data\\9.15 Cell Growth\\20190915_Sensor1_Test_29.xlsx\n",
      "..\\raw_data\\9.15 Cell Growth\\20190915_Sensor1_Test_3.xlsx\n"
     ]
    },
    {
     "name": "stderr",
     "output_type": "stream",
     "text": [
      " 39%|███▉      | 278/710 [00:19<00:29, 14.60it/s]"
     ]
    },
    {
     "name": "stdout",
     "output_type": "stream",
     "text": [
      "..\\raw_data\\9.15 Cell Growth\\20190915_Sensor1_Test_30.xlsx\n",
      "..\\raw_data\\9.15 Cell Growth\\20190915_Sensor1_Test_31.xlsx\n",
      "..\\raw_data\\9.15 Cell Growth\\20190915_Sensor1_Test_32.xlsx\n"
     ]
    },
    {
     "name": "stderr",
     "output_type": "stream",
     "text": [
      " 40%|███▉      | 282/710 [00:19<00:28, 15.07it/s]"
     ]
    },
    {
     "name": "stdout",
     "output_type": "stream",
     "text": [
      "..\\raw_data\\9.15 Cell Growth\\20190915_Sensor1_Test_33.xlsx\n",
      "..\\raw_data\\9.15 Cell Growth\\20190915_Sensor1_Test_34.xlsx\n",
      "..\\raw_data\\9.15 Cell Growth\\20190915_Sensor1_Test_35.xlsx\n",
      "..\\raw_data\\9.15 Cell Growth\\20190915_Sensor1_Test_36.xlsx\n"
     ]
    },
    {
     "name": "stderr",
     "output_type": "stream",
     "text": [
      " 40%|████      | 286/710 [00:19<00:27, 15.30it/s]"
     ]
    },
    {
     "name": "stdout",
     "output_type": "stream",
     "text": [
      "..\\raw_data\\9.15 Cell Growth\\20190915_Sensor1_Test_37.xlsx\n",
      "..\\raw_data\\9.15 Cell Growth\\20190915_Sensor1_Test_38.xlsx\n",
      "..\\raw_data\\9.15 Cell Growth\\20190915_Sensor1_Test_39.xlsx\n",
      "..\\raw_data\\9.15 Cell Growth\\20190915_Sensor1_Test_4.xlsx\n"
     ]
    },
    {
     "name": "stderr",
     "output_type": "stream",
     "text": [
      " 41%|████      | 290/710 [00:19<00:27, 15.32it/s]"
     ]
    },
    {
     "name": "stdout",
     "output_type": "stream",
     "text": [
      "..\\raw_data\\9.15 Cell Growth\\20190915_Sensor1_Test_40.xlsx\n",
      "..\\raw_data\\9.15 Cell Growth\\20190915_Sensor1_Test_41.xlsx\n",
      "..\\raw_data\\9.15 Cell Growth\\20190915_Sensor1_Test_42.xlsx\n",
      "..\\raw_data\\9.15 Cell Growth\\20190915_Sensor1_Test_43.xlsx\n"
     ]
    },
    {
     "name": "stderr",
     "output_type": "stream",
     "text": [
      " 41%|████▏     | 294/710 [00:20<00:26, 15.43it/s]"
     ]
    },
    {
     "name": "stdout",
     "output_type": "stream",
     "text": [
      "..\\raw_data\\9.15 Cell Growth\\20190915_Sensor1_Test_44.xlsx\n",
      "..\\raw_data\\9.15 Cell Growth\\20190915_Sensor1_Test_45.xlsx\n",
      "..\\raw_data\\9.15 Cell Growth\\20190915_Sensor1_Test_46.xlsx\n"
     ]
    },
    {
     "name": "stderr",
     "output_type": "stream",
     "text": [
      " 42%|████▏     | 298/710 [00:20<00:27, 14.94it/s]"
     ]
    },
    {
     "name": "stdout",
     "output_type": "stream",
     "text": [
      "..\\raw_data\\9.15 Cell Growth\\20190915_Sensor1_Test_47.xlsx\n",
      "..\\raw_data\\9.15 Cell Growth\\20190915_Sensor1_Test_48.xlsx\n",
      "..\\raw_data\\9.15 Cell Growth\\20190915_Sensor1_Test_49.xlsx\n"
     ]
    },
    {
     "name": "stderr",
     "output_type": "stream",
     "text": [
      " 42%|████▏     | 300/710 [00:20<00:27, 15.18it/s]"
     ]
    },
    {
     "name": "stdout",
     "output_type": "stream",
     "text": [
      "..\\raw_data\\9.15 Cell Growth\\20190915_Sensor1_Test_5.xlsx\n",
      "..\\raw_data\\9.15 Cell Growth\\20190915_Sensor1_Test_50.xlsx\n",
      "..\\raw_data\\9.15 Cell Growth\\20190915_Sensor1_Test_51.xlsx\n",
      "..\\raw_data\\9.15 Cell Growth\\20190915_Sensor1_Test_52.xlsx\n"
     ]
    },
    {
     "name": "stderr",
     "output_type": "stream",
     "text": [
      " 43%|████▎     | 304/710 [00:20<00:26, 15.21it/s]"
     ]
    },
    {
     "name": "stdout",
     "output_type": "stream",
     "text": [
      "..\\raw_data\\9.15 Cell Growth\\20190915_Sensor1_Test_53.xlsx\n",
      "..\\raw_data\\9.15 Cell Growth\\20190915_Sensor1_Test_54.xlsx\n",
      "..\\raw_data\\9.15 Cell Growth\\20190915_Sensor1_Test_55.xlsx\n"
     ]
    },
    {
     "name": "stderr",
     "output_type": "stream",
     "text": [
      " 43%|████▎     | 306/710 [00:21<00:27, 14.73it/s]"
     ]
    },
    {
     "name": "stdout",
     "output_type": "stream",
     "text": [
      "..\\raw_data\\9.15 Cell Growth\\20190915_Sensor1_Test_56.xlsx\n",
      "..\\raw_data\\9.15 Cell Growth\\20190915_Sensor1_Test_57.xlsx\n",
      "..\\raw_data\\9.15 Cell Growth\\20190915_Sensor1_Test_58.xlsx\n"
     ]
    },
    {
     "name": "stderr",
     "output_type": "stream",
     "text": [
      " 44%|████▎     | 310/710 [00:21<00:29, 13.76it/s]"
     ]
    },
    {
     "name": "stdout",
     "output_type": "stream",
     "text": [
      "..\\raw_data\\9.15 Cell Growth\\20190915_Sensor1_Test_59.xlsx\n",
      "..\\raw_data\\9.15 Cell Growth\\20190915_Sensor1_Test_6.xlsx\n",
      "..\\raw_data\\9.15 Cell Growth\\20190915_Sensor1_Test_60.xlsx\n"
     ]
    },
    {
     "name": "stderr",
     "output_type": "stream",
     "text": [
      " 44%|████▍     | 312/710 [00:21<00:30, 13.05it/s]"
     ]
    },
    {
     "name": "stdout",
     "output_type": "stream",
     "text": [
      "..\\raw_data\\9.15 Cell Growth\\20190915_Sensor1_Test_61.xlsx\n",
      "..\\raw_data\\9.15 Cell Growth\\20190915_Sensor1_Test_62.xlsx\n",
      "..\\raw_data\\9.15 Cell Growth\\20190915_Sensor1_Test_63.xlsx\n"
     ]
    },
    {
     "name": "stderr",
     "output_type": "stream",
     "text": [
      " 45%|████▍     | 316/710 [00:21<00:29, 13.47it/s]"
     ]
    },
    {
     "name": "stdout",
     "output_type": "stream",
     "text": [
      "..\\raw_data\\9.15 Cell Growth\\20190915_Sensor1_Test_64.xlsx\n",
      "..\\raw_data\\9.15 Cell Growth\\20190915_Sensor1_Test_65.xlsx\n",
      "..\\raw_data\\9.15 Cell Growth\\20190915_Sensor1_Test_66.xlsx\n",
      "..\\raw_data\\9.15 Cell Growth\\20190915_Sensor1_Test_67.xlsx\n"
     ]
    },
    {
     "name": "stderr",
     "output_type": "stream",
     "text": [
      " 45%|████▌     | 320/710 [00:22<00:29, 13.39it/s]"
     ]
    },
    {
     "name": "stdout",
     "output_type": "stream",
     "text": [
      "..\\raw_data\\9.15 Cell Growth\\20190915_Sensor1_Test_68.xlsx\n",
      "..\\raw_data\\9.15 Cell Growth\\20190915_Sensor1_Test_69.xlsx\n",
      "..\\raw_data\\9.15 Cell Growth\\20190915_Sensor1_Test_7.xlsx\n"
     ]
    },
    {
     "name": "stderr",
     "output_type": "stream",
     "text": [
      " 46%|████▌     | 324/710 [00:22<00:26, 14.59it/s]"
     ]
    },
    {
     "name": "stdout",
     "output_type": "stream",
     "text": [
      "..\\raw_data\\9.15 Cell Growth\\20190915_Sensor1_Test_70.xlsx\n",
      "..\\raw_data\\9.15 Cell Growth\\20190915_Sensor1_Test_71.xlsx\n",
      "..\\raw_data\\9.15 Cell Growth\\20190915_Sensor1_Test_72.xlsx\n"
     ]
    },
    {
     "name": "stderr",
     "output_type": "stream",
     "text": [
      " 46%|████▌     | 326/710 [00:22<00:25, 14.80it/s]"
     ]
    },
    {
     "name": "stdout",
     "output_type": "stream",
     "text": [
      "..\\raw_data\\9.15 Cell Growth\\20190915_Sensor1_Test_73.xlsx\n",
      "..\\raw_data\\9.15 Cell Growth\\20190915_Sensor1_Test_74.xlsx\n",
      "..\\raw_data\\9.15 Cell Growth\\20190915_Sensor1_Test_75.xlsx\n",
      "..\\raw_data\\9.15 Cell Growth\\20190915_Sensor1_Test_76.xlsx\n"
     ]
    },
    {
     "name": "stderr",
     "output_type": "stream",
     "text": [
      " 46%|████▋     | 330/710 [00:22<00:24, 15.40it/s]"
     ]
    },
    {
     "name": "stdout",
     "output_type": "stream",
     "text": [
      "..\\raw_data\\9.15 Cell Growth\\20190915_Sensor1_Test_77.xlsx\n",
      "..\\raw_data\\9.15 Cell Growth\\20190915_Sensor1_Test_78.xlsx\n",
      "..\\raw_data\\9.15 Cell Growth\\20190915_Sensor1_Test_79.xlsx\n",
      "..\\raw_data\\9.15 Cell Growth\\20190915_Sensor1_Test_8.xlsx\n"
     ]
    },
    {
     "name": "stderr",
     "output_type": "stream",
     "text": [
      " 47%|████▋     | 334/710 [00:23<00:23, 15.69it/s]"
     ]
    },
    {
     "name": "stdout",
     "output_type": "stream",
     "text": [
      "..\\raw_data\\9.15 Cell Growth\\20190915_Sensor1_Test_80.xlsx\n",
      "..\\raw_data\\9.15 Cell Growth\\20190915_Sensor1_Test_81.xlsx\n",
      "..\\raw_data\\9.15 Cell Growth\\20190915_Sensor1_Test_82.xlsx\n",
      "..\\raw_data\\9.15 Cell Growth\\20190915_Sensor1_Test_83.xlsx\n"
     ]
    },
    {
     "name": "stderr",
     "output_type": "stream",
     "text": [
      " 48%|████▊     | 338/710 [00:23<00:23, 15.57it/s]"
     ]
    },
    {
     "name": "stdout",
     "output_type": "stream",
     "text": [
      "..\\raw_data\\9.15 Cell Growth\\20190915_Sensor1_Test_84.xlsx\n",
      "..\\raw_data\\9.15 Cell Growth\\20190915_Sensor1_Test_85.xlsx\n",
      "..\\raw_data\\9.15 Cell Growth\\20190915_Sensor1_Test_86.xlsx\n",
      "..\\raw_data\\9.15 Cell Growth\\20190915_Sensor1_Test_87.xlsx\n"
     ]
    },
    {
     "name": "stderr",
     "output_type": "stream",
     "text": [
      " 48%|████▊     | 342/710 [00:23<00:25, 14.39it/s]"
     ]
    },
    {
     "name": "stdout",
     "output_type": "stream",
     "text": [
      "..\\raw_data\\9.15 Cell Growth\\20190915_Sensor1_Test_88.xlsx\n",
      "..\\raw_data\\9.15 Cell Growth\\20190915_Sensor1_Test_89.xlsx\n",
      "..\\raw_data\\9.15 Cell Growth\\20190915_Sensor1_Test_9.xlsx\n"
     ]
    },
    {
     "name": "stderr",
     "output_type": "stream",
     "text": [
      " 48%|████▊     | 344/710 [00:23<00:25, 14.34it/s]"
     ]
    },
    {
     "name": "stdout",
     "output_type": "stream",
     "text": [
      "..\\raw_data\\9.15 Cell Growth\\20190915_Sensor1_Test_90.xlsx\n",
      "..\\raw_data\\9.15 Cell Growth\\20190915_Sensor1_Test_91.xlsx\n",
      "..\\raw_data\\9.15 Cell Growth\\20190915_Sensor1_Test_92.xlsx\n"
     ]
    },
    {
     "name": "stderr",
     "output_type": "stream",
     "text": [
      " 49%|████▉     | 348/710 [00:24<00:26, 13.62it/s]"
     ]
    },
    {
     "name": "stdout",
     "output_type": "stream",
     "text": [
      "..\\raw_data\\9.15 Cell Growth\\20190915_Sensor1_Test_93.xlsx\n",
      "..\\raw_data\\9.15 Cell Growth\\20190915_Sensor1_Test_94.xlsx\n",
      "..\\raw_data\\9.15 Cell Growth\\20190915_Sensor1_Test_95.xlsx\n"
     ]
    },
    {
     "name": "stderr",
     "output_type": "stream",
     "text": [
      " 50%|████▉     | 352/710 [00:24<00:24, 14.63it/s]"
     ]
    },
    {
     "name": "stdout",
     "output_type": "stream",
     "text": [
      "..\\raw_data\\9.15 Cell Growth\\20190915_Sensor1_Test_96.xlsx\n",
      "..\\raw_data\\9.15 Cell Growth\\20190915_Sensor1_Test_97.xlsx\n",
      "..\\raw_data\\9.15 Cell Growth\\20190915_Sensor1_Test_98.xlsx\n"
     ]
    },
    {
     "name": "stderr",
     "output_type": "stream",
     "text": [
      " 50%|████▉     | 354/710 [00:24<00:24, 14.60it/s]"
     ]
    },
    {
     "name": "stdout",
     "output_type": "stream",
     "text": [
      "..\\raw_data\\9.15 Cell Growth\\20190915_Sensor1_Test_99.xlsx\n",
      "..\\raw_data\\9.15 Cell Growth\\20190915_Sensor2_Test_1.xlsx\n",
      "..\\raw_data\\9.15 Cell Growth\\20190915_Sensor2_Test_10.xlsx\n"
     ]
    },
    {
     "name": "stderr",
     "output_type": "stream",
     "text": [
      " 50%|█████     | 356/710 [00:24<00:24, 14.18it/s]"
     ]
    },
    {
     "name": "stdout",
     "output_type": "stream",
     "text": [
      "..\\raw_data\\9.15 Cell Growth\\20190915_Sensor2_Test_100.xlsx\n",
      "..\\raw_data\\9.15 Cell Growth\\20190915_Sensor2_Test_101.xlsx\n",
      "..\\raw_data\\9.15 Cell Growth\\20190915_Sensor2_Test_102.xlsx\n"
     ]
    },
    {
     "name": "stderr",
     "output_type": "stream",
     "text": [
      " 51%|█████     | 360/710 [00:24<00:24, 14.28it/s]"
     ]
    },
    {
     "name": "stdout",
     "output_type": "stream",
     "text": [
      "..\\raw_data\\9.15 Cell Growth\\20190915_Sensor2_Test_103.xlsx\n",
      "..\\raw_data\\9.15 Cell Growth\\20190915_Sensor2_Test_104.xlsx\n",
      "..\\raw_data\\9.15 Cell Growth\\20190915_Sensor2_Test_105.xlsx\n",
      "..\\raw_data\\9.15 Cell Growth\\20190915_Sensor2_Test_106.xlsx\n"
     ]
    },
    {
     "name": "stderr",
     "output_type": "stream",
     "text": [
      " 51%|█████▏    | 364/710 [00:25<00:25, 13.48it/s]"
     ]
    },
    {
     "name": "stdout",
     "output_type": "stream",
     "text": [
      "..\\raw_data\\9.15 Cell Growth\\20190915_Sensor2_Test_107.xlsx\n",
      "..\\raw_data\\9.15 Cell Growth\\20190915_Sensor2_Test_108.xlsx\n",
      "..\\raw_data\\9.15 Cell Growth\\20190915_Sensor2_Test_109.xlsx\n"
     ]
    },
    {
     "name": "stderr",
     "output_type": "stream",
     "text": [
      " 52%|█████▏    | 368/710 [00:25<00:24, 13.91it/s]"
     ]
    },
    {
     "name": "stdout",
     "output_type": "stream",
     "text": [
      "..\\raw_data\\9.15 Cell Growth\\20190915_Sensor2_Test_11.xlsx\n",
      "..\\raw_data\\9.15 Cell Growth\\20190915_Sensor2_Test_110.xlsx\n",
      "..\\raw_data\\9.15 Cell Growth\\20190915_Sensor2_Test_111.xlsx\n"
     ]
    },
    {
     "name": "stderr",
     "output_type": "stream",
     "text": [
      " 52%|█████▏    | 370/710 [00:25<00:23, 14.33it/s]"
     ]
    },
    {
     "name": "stdout",
     "output_type": "stream",
     "text": [
      "..\\raw_data\\9.15 Cell Growth\\20190915_Sensor2_Test_112.xlsx\n",
      "..\\raw_data\\9.15 Cell Growth\\20190915_Sensor2_Test_113.xlsx\n",
      "..\\raw_data\\9.15 Cell Growth\\20190915_Sensor2_Test_114.xlsx\n",
      "..\\raw_data\\9.15 Cell Growth\\20190915_Sensor2_Test_115.xlsx\n"
     ]
    },
    {
     "name": "stderr",
     "output_type": "stream",
     "text": [
      " 53%|█████▎    | 374/710 [00:25<00:22, 15.24it/s]"
     ]
    },
    {
     "name": "stdout",
     "output_type": "stream",
     "text": [
      "..\\raw_data\\9.15 Cell Growth\\20190915_Sensor2_Test_116.xlsx\n",
      "..\\raw_data\\9.15 Cell Growth\\20190915_Sensor2_Test_117.xlsx\n",
      "..\\raw_data\\9.15 Cell Growth\\20190915_Sensor2_Test_118.xlsx\n",
      "..\\raw_data\\9.15 Cell Growth\\20190915_Sensor2_Test_119.xlsx\n"
     ]
    },
    {
     "name": "stderr",
     "output_type": "stream",
     "text": [
      " 53%|█████▎    | 378/710 [00:26<00:21, 15.69it/s]"
     ]
    },
    {
     "name": "stdout",
     "output_type": "stream",
     "text": [
      "..\\raw_data\\9.15 Cell Growth\\20190915_Sensor2_Test_12.xlsx\n",
      "..\\raw_data\\9.15 Cell Growth\\20190915_Sensor2_Test_120.xlsx\n",
      "..\\raw_data\\9.15 Cell Growth\\20190915_Sensor2_Test_121.xlsx\n",
      "..\\raw_data\\9.15 Cell Growth\\20190915_Sensor2_Test_122.xlsx\n"
     ]
    },
    {
     "name": "stderr",
     "output_type": "stream",
     "text": [
      " 54%|█████▍    | 382/710 [00:26<00:22, 14.50it/s]"
     ]
    },
    {
     "name": "stdout",
     "output_type": "stream",
     "text": [
      "..\\raw_data\\9.15 Cell Growth\\20190915_Sensor2_Test_123.xlsx\n",
      "..\\raw_data\\9.15 Cell Growth\\20190915_Sensor2_Test_124.xlsx\n",
      "..\\raw_data\\9.15 Cell Growth\\20190915_Sensor2_Test_125.xlsx\n"
     ]
    },
    {
     "name": "stderr",
     "output_type": "stream",
     "text": [
      " 54%|█████▍    | 384/710 [00:26<00:22, 14.51it/s]"
     ]
    },
    {
     "name": "stdout",
     "output_type": "stream",
     "text": [
      "..\\raw_data\\9.15 Cell Growth\\20190915_Sensor2_Test_126.xlsx\n",
      "..\\raw_data\\9.15 Cell Growth\\20190915_Sensor2_Test_127.xlsx\n",
      "..\\raw_data\\9.15 Cell Growth\\20190915_Sensor2_Test_128.xlsx\n"
     ]
    },
    {
     "name": "stderr",
     "output_type": "stream",
     "text": [
      " 55%|█████▍    | 388/710 [00:26<00:22, 14.00it/s]"
     ]
    },
    {
     "name": "stdout",
     "output_type": "stream",
     "text": [
      "..\\raw_data\\9.15 Cell Growth\\20190915_Sensor2_Test_129.xlsx\n",
      "..\\raw_data\\9.15 Cell Growth\\20190915_Sensor2_Test_13.xlsx\n",
      "..\\raw_data\\9.15 Cell Growth\\20190915_Sensor2_Test_130.xlsx\n"
     ]
    },
    {
     "name": "stderr",
     "output_type": "stream",
     "text": [
      " 55%|█████▌    | 392/710 [00:27<00:22, 14.17it/s]"
     ]
    },
    {
     "name": "stdout",
     "output_type": "stream",
     "text": [
      "..\\raw_data\\9.15 Cell Growth\\20190915_Sensor2_Test_131.xlsx\n",
      "..\\raw_data\\9.15 Cell Growth\\20190915_Sensor2_Test_132.xlsx\n",
      "..\\raw_data\\9.15 Cell Growth\\20190915_Sensor2_Test_133.xlsx\n"
     ]
    },
    {
     "name": "stderr",
     "output_type": "stream",
     "text": [
      " 55%|█████▌    | 394/710 [00:27<00:21, 14.37it/s]"
     ]
    },
    {
     "name": "stdout",
     "output_type": "stream",
     "text": [
      "..\\raw_data\\9.15 Cell Growth\\20190915_Sensor2_Test_134.xlsx\n",
      "..\\raw_data\\9.15 Cell Growth\\20190915_Sensor2_Test_135.xlsx\n",
      "..\\raw_data\\9.15 Cell Growth\\20190915_Sensor2_Test_136.xlsx\n",
      "..\\raw_data\\9.15 Cell Growth\\20190915_Sensor2_Test_137.xlsx\n"
     ]
    },
    {
     "name": "stderr",
     "output_type": "stream",
     "text": [
      " 56%|█████▌    | 398/710 [00:27<00:21, 14.72it/s]"
     ]
    },
    {
     "name": "stdout",
     "output_type": "stream",
     "text": [
      "..\\raw_data\\9.15 Cell Growth\\20190915_Sensor2_Test_138.xlsx\n",
      "..\\raw_data\\9.15 Cell Growth\\20190915_Sensor2_Test_139.xlsx\n",
      "..\\raw_data\\9.15 Cell Growth\\20190915_Sensor2_Test_14.xlsx\n",
      "..\\raw_data\\9.15 Cell Growth\\20190915_Sensor2_Test_140.xlsx\n"
     ]
    },
    {
     "name": "stderr",
     "output_type": "stream",
     "text": [
      " 57%|█████▋    | 402/710 [00:27<00:20, 15.30it/s]"
     ]
    },
    {
     "name": "stdout",
     "output_type": "stream",
     "text": [
      "..\\raw_data\\9.15 Cell Growth\\20190915_Sensor2_Test_141.xlsx\n",
      "..\\raw_data\\9.15 Cell Growth\\20190915_Sensor2_Test_142.xlsx\n",
      "..\\raw_data\\9.15 Cell Growth\\20190915_Sensor2_Test_143.xlsx\n",
      "..\\raw_data\\9.15 Cell Growth\\20190915_Sensor2_Test_144.xlsx"
     ]
    },
    {
     "name": "stderr",
     "output_type": "stream",
     "text": [
      " 57%|█████▋    | 404/710 [00:27<00:20, 14.86it/s]"
     ]
    },
    {
     "name": "stdout",
     "output_type": "stream",
     "text": [
      "\n",
      "..\\raw_data\\9.15 Cell Growth\\20190915_Sensor2_Test_145.xlsx\n",
      "..\\raw_data\\9.15 Cell Growth\\20190915_Sensor2_Test_146.xlsx\n"
     ]
    },
    {
     "name": "stderr",
     "output_type": "stream",
     "text": [
      " 57%|█████▋    | 408/710 [00:28<00:20, 14.57it/s]"
     ]
    },
    {
     "name": "stdout",
     "output_type": "stream",
     "text": [
      "..\\raw_data\\9.15 Cell Growth\\20190915_Sensor2_Test_147.xlsx\n",
      "..\\raw_data\\9.15 Cell Growth\\20190915_Sensor2_Test_148.xlsx\n",
      "..\\raw_data\\9.15 Cell Growth\\20190915_Sensor2_Test_149.xlsx\n",
      "..\\raw_data\\9.15 Cell Growth\\20190915_Sensor2_Test_15.xlsx\n"
     ]
    },
    {
     "name": "stderr",
     "output_type": "stream",
     "text": [
      " 58%|█████▊    | 412/710 [00:28<00:19, 15.03it/s]"
     ]
    },
    {
     "name": "stdout",
     "output_type": "stream",
     "text": [
      "..\\raw_data\\9.15 Cell Growth\\20190915_Sensor2_Test_150.xlsx\n",
      "..\\raw_data\\9.15 Cell Growth\\20190915_Sensor2_Test_151.xlsx\n",
      "..\\raw_data\\9.15 Cell Growth\\20190915_Sensor2_Test_152.xlsx\n",
      "..\\raw_data\\9.15 Cell Growth\\20190915_Sensor2_Test_153.xlsx\n"
     ]
    },
    {
     "name": "stderr",
     "output_type": "stream",
     "text": [
      " 59%|█████▊    | 416/710 [00:28<00:19, 14.81it/s]"
     ]
    },
    {
     "name": "stdout",
     "output_type": "stream",
     "text": [
      "..\\raw_data\\9.15 Cell Growth\\20190915_Sensor2_Test_154.xlsx\n",
      "..\\raw_data\\9.15 Cell Growth\\20190915_Sensor2_Test_155.xlsx\n",
      "..\\raw_data\\9.15 Cell Growth\\20190915_Sensor2_Test_156.xlsx\n",
      "..\\raw_data\\9.15 Cell Growth\\20190915_Sensor2_Test_157.xlsx\n"
     ]
    },
    {
     "name": "stderr",
     "output_type": "stream",
     "text": [
      " 59%|█████▉    | 420/710 [00:28<00:19, 15.17it/s]"
     ]
    },
    {
     "name": "stdout",
     "output_type": "stream",
     "text": [
      "..\\raw_data\\9.15 Cell Growth\\20190915_Sensor2_Test_158.xlsx\n",
      "..\\raw_data\\9.15 Cell Growth\\20190915_Sensor2_Test_159.xlsx\n",
      "..\\raw_data\\9.15 Cell Growth\\20190915_Sensor2_Test_16.xlsx\n",
      "..\\raw_data\\9.15 Cell Growth\\20190915_Sensor2_Test_160.xlsx\n"
     ]
    },
    {
     "name": "stderr",
     "output_type": "stream",
     "text": [
      " 60%|█████▉    | 424/710 [00:29<00:18, 15.75it/s]"
     ]
    },
    {
     "name": "stdout",
     "output_type": "stream",
     "text": [
      "..\\raw_data\\9.15 Cell Growth\\20190915_Sensor2_Test_161.xlsx\n",
      "..\\raw_data\\9.15 Cell Growth\\20190915_Sensor2_Test_162.xlsx\n",
      "..\\raw_data\\9.15 Cell Growth\\20190915_Sensor2_Test_163.xlsx\n",
      "..\\raw_data\\9.15 Cell Growth\\20190915_Sensor2_Test_164.xlsx\n"
     ]
    },
    {
     "name": "stderr",
     "output_type": "stream",
     "text": [
      " 60%|██████    | 428/710 [00:29<00:19, 14.75it/s]"
     ]
    },
    {
     "name": "stdout",
     "output_type": "stream",
     "text": [
      "..\\raw_data\\9.15 Cell Growth\\20190915_Sensor2_Test_165.xlsx\n",
      "..\\raw_data\\9.15 Cell Growth\\20190915_Sensor2_Test_166.xlsx\n",
      "..\\raw_data\\9.15 Cell Growth\\20190915_Sensor2_Test_167.xlsx\n"
     ]
    },
    {
     "name": "stderr",
     "output_type": "stream",
     "text": [
      " 61%|██████    | 432/710 [00:29<00:19, 14.59it/s]"
     ]
    },
    {
     "name": "stdout",
     "output_type": "stream",
     "text": [
      "..\\raw_data\\9.15 Cell Growth\\20190915_Sensor2_Test_168.xlsx\n",
      "..\\raw_data\\9.15 Cell Growth\\20190915_Sensor2_Test_169.xlsx\n",
      "..\\raw_data\\9.15 Cell Growth\\20190915_Sensor2_Test_17.xlsx\n"
     ]
    },
    {
     "name": "stderr",
     "output_type": "stream",
     "text": [
      " 61%|██████    | 434/710 [00:29<00:18, 15.13it/s]"
     ]
    },
    {
     "name": "stdout",
     "output_type": "stream",
     "text": [
      "..\\raw_data\\9.15 Cell Growth\\20190915_Sensor2_Test_170.xlsx\n",
      "..\\raw_data\\9.15 Cell Growth\\20190915_Sensor2_Test_171.xlsx\n",
      "..\\raw_data\\9.15 Cell Growth\\20190915_Sensor2_Test_172.xlsx\n",
      "..\\raw_data\\9.15 Cell Growth\\20190915_Sensor2_Test_173.xlsx\n"
     ]
    },
    {
     "name": "stderr",
     "output_type": "stream",
     "text": [
      " 62%|██████▏   | 438/710 [00:30<00:17, 15.16it/s]"
     ]
    },
    {
     "name": "stdout",
     "output_type": "stream",
     "text": [
      "..\\raw_data\\9.15 Cell Growth\\20190915_Sensor2_Test_174.xlsx\n",
      "..\\raw_data\\9.15 Cell Growth\\20190915_Sensor2_Test_175.xlsx\n",
      "..\\raw_data\\9.15 Cell Growth\\20190915_Sensor2_Test_176.xlsx\n",
      "..\\raw_data\\9.15 Cell Growth\\20190915_Sensor2_Test_18.xlsx\n"
     ]
    },
    {
     "name": "stderr",
     "output_type": "stream",
     "text": [
      " 62%|██████▏   | 442/710 [00:30<00:17, 15.14it/s]"
     ]
    },
    {
     "name": "stdout",
     "output_type": "stream",
     "text": [
      "..\\raw_data\\9.15 Cell Growth\\20190915_Sensor2_Test_19.xlsx\n",
      "..\\raw_data\\9.15 Cell Growth\\20190915_Sensor2_Test_2.xlsx\n",
      "..\\raw_data\\9.15 Cell Growth\\20190915_Sensor2_Test_20.xlsx\n",
      "..\\raw_data\\9.15 Cell Growth\\20190915_Sensor2_Test_21.xlsx\n"
     ]
    },
    {
     "name": "stderr",
     "output_type": "stream",
     "text": [
      " 63%|██████▎   | 446/710 [00:30<00:18, 14.51it/s]"
     ]
    },
    {
     "name": "stdout",
     "output_type": "stream",
     "text": [
      "..\\raw_data\\9.15 Cell Growth\\20190915_Sensor2_Test_22.xlsx\n",
      "..\\raw_data\\9.15 Cell Growth\\20190915_Sensor2_Test_23.xlsx\n",
      "..\\raw_data\\9.15 Cell Growth\\20190915_Sensor2_Test_24.xlsx\n"
     ]
    },
    {
     "name": "stderr",
     "output_type": "stream",
     "text": [
      " 63%|██████▎   | 448/710 [00:30<00:18, 13.94it/s]"
     ]
    },
    {
     "name": "stdout",
     "output_type": "stream",
     "text": [
      "..\\raw_data\\9.15 Cell Growth\\20190915_Sensor2_Test_25.xlsx\n",
      "..\\raw_data\\9.15 Cell Growth\\20190915_Sensor2_Test_26.xlsx\n",
      "..\\raw_data\\9.15 Cell Growth\\20190915_Sensor2_Test_27.xlsx\n"
     ]
    },
    {
     "name": "stderr",
     "output_type": "stream",
     "text": [
      " 64%|██████▎   | 452/710 [00:31<00:18, 13.67it/s]"
     ]
    },
    {
     "name": "stdout",
     "output_type": "stream",
     "text": [
      "..\\raw_data\\9.15 Cell Growth\\20190915_Sensor2_Test_28.xlsx\n",
      "..\\raw_data\\9.15 Cell Growth\\20190915_Sensor2_Test_29.xlsx\n",
      "..\\raw_data\\9.15 Cell Growth\\20190915_Sensor2_Test_3.xlsx\n",
      "..\\raw_data\\9.15 Cell Growth\\20190915_Sensor2_Test_30.xlsx\n"
     ]
    },
    {
     "name": "stderr",
     "output_type": "stream",
     "text": [
      " 64%|██████▍   | 456/710 [00:31<00:18, 13.84it/s]"
     ]
    },
    {
     "name": "stdout",
     "output_type": "stream",
     "text": [
      "..\\raw_data\\9.15 Cell Growth\\20190915_Sensor2_Test_31.xlsx\n",
      "..\\raw_data\\9.15 Cell Growth\\20190915_Sensor2_Test_32.xlsx\n",
      "..\\raw_data\\9.15 Cell Growth\\20190915_Sensor2_Test_33.xlsx\n"
     ]
    },
    {
     "name": "stderr",
     "output_type": "stream",
     "text": [
      " 65%|██████▍   | 458/710 [00:31<00:19, 13.24it/s]"
     ]
    },
    {
     "name": "stdout",
     "output_type": "stream",
     "text": [
      "..\\raw_data\\9.15 Cell Growth\\20190915_Sensor2_Test_34.xlsx\n",
      "..\\raw_data\\9.15 Cell Growth\\20190915_Sensor2_Test_35.xlsx\n",
      "..\\raw_data\\9.15 Cell Growth\\20190915_Sensor2_Test_36.xlsx\n"
     ]
    },
    {
     "name": "stderr",
     "output_type": "stream",
     "text": [
      " 65%|██████▌   | 462/710 [00:31<00:19, 12.94it/s]"
     ]
    },
    {
     "name": "stdout",
     "output_type": "stream",
     "text": [
      "..\\raw_data\\9.15 Cell Growth\\20190915_Sensor2_Test_37.xlsx\n",
      "..\\raw_data\\9.15 Cell Growth\\20190915_Sensor2_Test_38.xlsx\n",
      "..\\raw_data\\9.15 Cell Growth\\20190915_Sensor2_Test_39.xlsx\n"
     ]
    },
    {
     "name": "stderr",
     "output_type": "stream",
     "text": [
      " 66%|██████▌   | 466/710 [00:32<00:18, 13.55it/s]"
     ]
    },
    {
     "name": "stdout",
     "output_type": "stream",
     "text": [
      "..\\raw_data\\9.15 Cell Growth\\20190915_Sensor2_Test_4.xlsx\n",
      "..\\raw_data\\9.15 Cell Growth\\20190915_Sensor2_Test_40.xlsx\n",
      "..\\raw_data\\9.15 Cell Growth\\20190915_Sensor2_Test_41.xlsx\n"
     ]
    },
    {
     "name": "stderr",
     "output_type": "stream",
     "text": [
      " 66%|██████▌   | 468/710 [00:32<00:17, 13.69it/s]"
     ]
    },
    {
     "name": "stdout",
     "output_type": "stream",
     "text": [
      "..\\raw_data\\9.15 Cell Growth\\20190915_Sensor2_Test_42.xlsx\n",
      "..\\raw_data\\9.15 Cell Growth\\20190915_Sensor2_Test_43.xlsx\n",
      "..\\raw_data\\9.15 Cell Growth\\20190915_Sensor2_Test_44.xlsx\n",
      "..\\raw_data\\9.15 Cell Growth\\20190915_Sensor2_Test_45.xlsx\n"
     ]
    },
    {
     "name": "stderr",
     "output_type": "stream",
     "text": [
      " 66%|██████▋   | 472/710 [00:32<00:16, 14.10it/s]"
     ]
    },
    {
     "name": "stdout",
     "output_type": "stream",
     "text": [
      "..\\raw_data\\9.15 Cell Growth\\20190915_Sensor2_Test_46.xlsx\n",
      "..\\raw_data\\9.15 Cell Growth\\20190915_Sensor2_Test_47.xlsx\n",
      "..\\raw_data\\9.15 Cell Growth\\20190915_Sensor2_Test_48.xlsx\n",
      "..\\raw_data\\9.15 Cell Growth\\20190915_Sensor2_Test_49.xlsx\n"
     ]
    },
    {
     "name": "stderr",
     "output_type": "stream",
     "text": [
      " 67%|██████▋   | 476/710 [00:32<00:16, 13.80it/s]"
     ]
    },
    {
     "name": "stdout",
     "output_type": "stream",
     "text": [
      "..\\raw_data\\9.15 Cell Growth\\20190915_Sensor2_Test_5.xlsx\n",
      "..\\raw_data\\9.15 Cell Growth\\20190915_Sensor2_Test_50.xlsx\n",
      "..\\raw_data\\9.15 Cell Growth\\20190915_Sensor2_Test_51.xlsx\n"
     ]
    },
    {
     "name": "stderr",
     "output_type": "stream",
     "text": [
      " 68%|██████▊   | 480/710 [00:33<00:15, 14.73it/s]"
     ]
    },
    {
     "name": "stdout",
     "output_type": "stream",
     "text": [
      "..\\raw_data\\9.15 Cell Growth\\20190915_Sensor2_Test_52.xlsx\n",
      "..\\raw_data\\9.15 Cell Growth\\20190915_Sensor2_Test_53.xlsx\n",
      "..\\raw_data\\9.15 Cell Growth\\20190915_Sensor2_Test_54.xlsx\n"
     ]
    },
    {
     "name": "stderr",
     "output_type": "stream",
     "text": [
      " 68%|██████▊   | 482/710 [00:33<00:15, 14.90it/s]"
     ]
    },
    {
     "name": "stdout",
     "output_type": "stream",
     "text": [
      "..\\raw_data\\9.15 Cell Growth\\20190915_Sensor2_Test_55.xlsx\n",
      "..\\raw_data\\9.15 Cell Growth\\20190915_Sensor2_Test_56.xlsx\n",
      "..\\raw_data\\9.15 Cell Growth\\20190915_Sensor2_Test_57.xlsx\n",
      "..\\raw_data\\9.15 Cell Growth\\20190915_Sensor2_Test_58.xlsx"
     ]
    },
    {
     "name": "stderr",
     "output_type": "stream",
     "text": [
      " 68%|██████▊   | 484/710 [00:33<00:15, 14.92it/s]"
     ]
    },
    {
     "name": "stdout",
     "output_type": "stream",
     "text": [
      "\n",
      "..\\raw_data\\9.15 Cell Growth\\20190915_Sensor2_Test_59.xlsx\n",
      "..\\raw_data\\9.15 Cell Growth\\20190915_Sensor2_Test_6.xlsx\n"
     ]
    },
    {
     "name": "stderr",
     "output_type": "stream",
     "text": [
      " 69%|██████▊   | 488/710 [00:33<00:15, 14.16it/s]"
     ]
    },
    {
     "name": "stdout",
     "output_type": "stream",
     "text": [
      "..\\raw_data\\9.15 Cell Growth\\20190915_Sensor2_Test_60.xlsx\n",
      "..\\raw_data\\9.15 Cell Growth\\20190915_Sensor2_Test_61.xlsx\n",
      "..\\raw_data\\9.15 Cell Growth\\20190915_Sensor2_Test_62.xlsx\n"
     ]
    },
    {
     "name": "stderr",
     "output_type": "stream",
     "text": [
      " 69%|██████▉   | 490/710 [00:33<00:16, 13.44it/s]"
     ]
    },
    {
     "name": "stdout",
     "output_type": "stream",
     "text": [
      "..\\raw_data\\9.15 Cell Growth\\20190915_Sensor2_Test_63.xlsx\n",
      "..\\raw_data\\9.15 Cell Growth\\20190915_Sensor2_Test_64.xlsx\n",
      "..\\raw_data\\9.15 Cell Growth\\20190915_Sensor2_Test_65.xlsx\n"
     ]
    },
    {
     "name": "stderr",
     "output_type": "stream",
     "text": [
      " 70%|██████▉   | 494/710 [00:34<00:15, 13.53it/s]"
     ]
    },
    {
     "name": "stdout",
     "output_type": "stream",
     "text": [
      "..\\raw_data\\9.15 Cell Growth\\20190915_Sensor2_Test_66.xlsx\n",
      "..\\raw_data\\9.15 Cell Growth\\20190915_Sensor2_Test_67.xlsx\n",
      "..\\raw_data\\9.15 Cell Growth\\20190915_Sensor2_Test_68.xlsx\n"
     ]
    },
    {
     "name": "stderr",
     "output_type": "stream",
     "text": [
      " 70%|██████▉   | 496/710 [00:34<00:15, 13.59it/s]"
     ]
    },
    {
     "name": "stdout",
     "output_type": "stream",
     "text": [
      "..\\raw_data\\9.15 Cell Growth\\20190915_Sensor2_Test_69.xlsx\n",
      "..\\raw_data\\9.15 Cell Growth\\20190915_Sensor2_Test_7.xlsx\n",
      "..\\raw_data\\9.15 Cell Growth\\20190915_Sensor2_Test_70.xlsx\n"
     ]
    },
    {
     "name": "stderr",
     "output_type": "stream",
     "text": [
      " 70%|███████   | 500/710 [00:34<00:14, 14.06it/s]"
     ]
    },
    {
     "name": "stdout",
     "output_type": "stream",
     "text": [
      "..\\raw_data\\9.15 Cell Growth\\20190915_Sensor2_Test_71.xlsx\n",
      "..\\raw_data\\9.15 Cell Growth\\20190915_Sensor2_Test_72.xlsx\n",
      "..\\raw_data\\9.15 Cell Growth\\20190915_Sensor2_Test_73.xlsx\n",
      "..\\raw_data\\9.15 Cell Growth\\20190915_Sensor2_Test_74.xlsx\n"
     ]
    },
    {
     "name": "stderr",
     "output_type": "stream",
     "text": [
      " 71%|███████   | 504/710 [00:34<00:14, 14.43it/s]"
     ]
    },
    {
     "name": "stdout",
     "output_type": "stream",
     "text": [
      "..\\raw_data\\9.15 Cell Growth\\20190915_Sensor2_Test_75.xlsx\n",
      "..\\raw_data\\9.15 Cell Growth\\20190915_Sensor2_Test_76.xlsx\n",
      "..\\raw_data\\9.15 Cell Growth\\20190915_Sensor2_Test_77.xlsx\n",
      "..\\raw_data\\9.15 Cell Growth\\20190915_Sensor2_Test_78.xlsx\n"
     ]
    },
    {
     "name": "stderr",
     "output_type": "stream",
     "text": [
      " 72%|███████▏  | 508/710 [00:35<00:13, 14.56it/s]"
     ]
    },
    {
     "name": "stdout",
     "output_type": "stream",
     "text": [
      "..\\raw_data\\9.15 Cell Growth\\20190915_Sensor2_Test_79.xlsx\n",
      "..\\raw_data\\9.15 Cell Growth\\20190915_Sensor2_Test_8.xlsx\n",
      "..\\raw_data\\9.15 Cell Growth\\20190915_Sensor2_Test_80.xlsx\n",
      "..\\raw_data\\9.15 Cell Growth\\20190915_Sensor2_Test_81.xlsx\n"
     ]
    },
    {
     "name": "stderr",
     "output_type": "stream",
     "text": [
      " 72%|███████▏  | 512/710 [00:35<00:13, 14.76it/s]"
     ]
    },
    {
     "name": "stdout",
     "output_type": "stream",
     "text": [
      "..\\raw_data\\9.15 Cell Growth\\20190915_Sensor2_Test_82.xlsx\n",
      "..\\raw_data\\9.15 Cell Growth\\20190915_Sensor2_Test_83.xlsx\n",
      "..\\raw_data\\9.15 Cell Growth\\20190915_Sensor2_Test_84.xlsx\n",
      "..\\raw_data\\9.15 Cell Growth\\20190915_Sensor2_Test_85.xlsx\n"
     ]
    },
    {
     "name": "stderr",
     "output_type": "stream",
     "text": [
      " 73%|███████▎  | 516/710 [00:35<00:13, 14.25it/s]"
     ]
    },
    {
     "name": "stdout",
     "output_type": "stream",
     "text": [
      "..\\raw_data\\9.15 Cell Growth\\20190915_Sensor2_Test_86.xlsx\n",
      "..\\raw_data\\9.15 Cell Growth\\20190915_Sensor2_Test_87.xlsx\n",
      "..\\raw_data\\9.15 Cell Growth\\20190915_Sensor2_Test_88.xlsx\n"
     ]
    },
    {
     "name": "stderr",
     "output_type": "stream",
     "text": [
      " 73%|███████▎  | 518/710 [00:35<00:13, 14.03it/s]"
     ]
    },
    {
     "name": "stdout",
     "output_type": "stream",
     "text": [
      "..\\raw_data\\9.15 Cell Growth\\20190915_Sensor2_Test_89.xlsx\n",
      "..\\raw_data\\9.15 Cell Growth\\20190915_Sensor2_Test_9.xlsx\n",
      "..\\raw_data\\9.15 Cell Growth\\20190915_Sensor2_Test_90.xlsx\n"
     ]
    },
    {
     "name": "stderr",
     "output_type": "stream",
     "text": [
      " 74%|███████▎  | 522/710 [00:36<00:13, 13.95it/s]"
     ]
    },
    {
     "name": "stdout",
     "output_type": "stream",
     "text": [
      "..\\raw_data\\9.15 Cell Growth\\20190915_Sensor2_Test_91.xlsx\n",
      "..\\raw_data\\9.15 Cell Growth\\20190915_Sensor2_Test_92.xlsx\n",
      "..\\raw_data\\9.15 Cell Growth\\20190915_Sensor2_Test_93.xlsx\n",
      "..\\raw_data\\9.15 Cell Growth\\20190915_Sensor2_Test_94.xlsx\n"
     ]
    },
    {
     "name": "stderr",
     "output_type": "stream",
     "text": [
      " 74%|███████▍  | 526/710 [00:36<00:12, 14.68it/s]"
     ]
    },
    {
     "name": "stdout",
     "output_type": "stream",
     "text": [
      "..\\raw_data\\9.15 Cell Growth\\20190915_Sensor2_Test_95.xlsx\n",
      "..\\raw_data\\9.15 Cell Growth\\20190915_Sensor2_Test_96.xlsx\n",
      "..\\raw_data\\9.15 Cell Growth\\20190915_Sensor2_Test_97.xlsx\n",
      "..\\raw_data\\9.15 Cell Growth\\20190915_Sensor2_Test_98.xlsx\n"
     ]
    },
    {
     "name": "stderr",
     "output_type": "stream",
     "text": [
      " 75%|███████▍  | 530/710 [00:36<00:12, 14.50it/s]"
     ]
    },
    {
     "name": "stdout",
     "output_type": "stream",
     "text": [
      "..\\raw_data\\9.15 Cell Growth\\20190915_Sensor2_Test_99.xlsx\n",
      "..\\raw_data\\9.15 Cell Growth\\20190915_Sensor3_Test_1.xlsx\n",
      "..\\raw_data\\9.15 Cell Growth\\20190915_Sensor3_Test_10.xlsx\n",
      "..\\raw_data\\9.15 Cell Growth\\20190915_Sensor3_Test_100.xlsx\n"
     ]
    },
    {
     "name": "stderr",
     "output_type": "stream",
     "text": [
      " 75%|███████▌  | 534/710 [00:36<00:13, 13.48it/s]"
     ]
    },
    {
     "name": "stdout",
     "output_type": "stream",
     "text": [
      "..\\raw_data\\9.15 Cell Growth\\20190915_Sensor3_Test_101.xlsx\n",
      "..\\raw_data\\9.15 Cell Growth\\20190915_Sensor3_Test_102.xlsx\n"
     ]
    },
    {
     "name": "stderr",
     "output_type": "stream",
     "text": [
      " 75%|███████▌  | 536/710 [00:37<00:12, 13.78it/s]"
     ]
    },
    {
     "name": "stdout",
     "output_type": "stream",
     "text": [
      "..\\raw_data\\9.15 Cell Growth\\20190915_Sensor3_Test_103.xlsx\n",
      "..\\raw_data\\9.15 Cell Growth\\20190915_Sensor3_Test_104.xlsx\n",
      "..\\raw_data\\9.15 Cell Growth\\20190915_Sensor3_Test_105.xlsx\n",
      "..\\raw_data\\9.15 Cell Growth\\20190915_Sensor3_Test_106.xlsx\n"
     ]
    },
    {
     "name": "stderr",
     "output_type": "stream",
     "text": [
      " 76%|███████▌  | 540/710 [00:37<00:12, 14.00it/s]"
     ]
    },
    {
     "name": "stdout",
     "output_type": "stream",
     "text": [
      "..\\raw_data\\9.15 Cell Growth\\20190915_Sensor3_Test_107.xlsx\n",
      "..\\raw_data\\9.15 Cell Growth\\20190915_Sensor3_Test_108.xlsx\n",
      "..\\raw_data\\9.15 Cell Growth\\20190915_Sensor3_Test_109.xlsx\n"
     ]
    },
    {
     "name": "stderr",
     "output_type": "stream",
     "text": [
      " 77%|███████▋  | 544/710 [00:37<00:11, 14.34it/s]"
     ]
    },
    {
     "name": "stdout",
     "output_type": "stream",
     "text": [
      "..\\raw_data\\9.15 Cell Growth\\20190915_Sensor3_Test_11.xlsx\n",
      "..\\raw_data\\9.15 Cell Growth\\20190915_Sensor3_Test_110.xlsx\n",
      "..\\raw_data\\9.15 Cell Growth\\20190915_Sensor3_Test_111.xlsx\n"
     ]
    },
    {
     "name": "stderr",
     "output_type": "stream",
     "text": [
      " 77%|███████▋  | 546/710 [00:37<00:11, 14.71it/s]"
     ]
    },
    {
     "name": "stdout",
     "output_type": "stream",
     "text": [
      "..\\raw_data\\9.15 Cell Growth\\20190915_Sensor3_Test_112.xlsx\n",
      "..\\raw_data\\9.15 Cell Growth\\20190915_Sensor3_Test_113.xlsx\n",
      "..\\raw_data\\9.15 Cell Growth\\20190915_Sensor3_Test_114.xlsx\n",
      "..\\raw_data\\9.15 Cell Growth\\20190915_Sensor3_Test_115.xlsx\n"
     ]
    },
    {
     "name": "stderr",
     "output_type": "stream",
     "text": [
      " 77%|███████▋  | 550/710 [00:38<00:10, 15.52it/s]"
     ]
    },
    {
     "name": "stdout",
     "output_type": "stream",
     "text": [
      "..\\raw_data\\9.15 Cell Growth\\20190915_Sensor3_Test_116.xlsx\n",
      "..\\raw_data\\9.15 Cell Growth\\20190915_Sensor3_Test_117.xlsx\n",
      "..\\raw_data\\9.15 Cell Growth\\20190915_Sensor3_Test_118.xlsx\n",
      "..\\raw_data\\9.15 Cell Growth\\20190915_Sensor3_Test_119.xlsx\n"
     ]
    },
    {
     "name": "stderr",
     "output_type": "stream",
     "text": [
      " 78%|███████▊  | 554/710 [00:38<00:10, 14.33it/s]"
     ]
    },
    {
     "name": "stdout",
     "output_type": "stream",
     "text": [
      "..\\raw_data\\9.15 Cell Growth\\20190915_Sensor3_Test_12.xlsx\n",
      "..\\raw_data\\9.15 Cell Growth\\20190915_Sensor3_Test_120.xlsx\n",
      "..\\raw_data\\9.15 Cell Growth\\20190915_Sensor3_Test_121.xlsx\n"
     ]
    },
    {
     "name": "stderr",
     "output_type": "stream",
     "text": [
      " 79%|███████▊  | 558/710 [00:38<00:10, 15.12it/s]"
     ]
    },
    {
     "name": "stdout",
     "output_type": "stream",
     "text": [
      "..\\raw_data\\9.15 Cell Growth\\20190915_Sensor3_Test_122.xlsx\n",
      "..\\raw_data\\9.15 Cell Growth\\20190915_Sensor3_Test_123.xlsx\n",
      "..\\raw_data\\9.15 Cell Growth\\20190915_Sensor3_Test_124.xlsx\n"
     ]
    },
    {
     "name": "stderr",
     "output_type": "stream",
     "text": [
      " 79%|███████▉  | 560/710 [00:38<00:09, 15.42it/s]"
     ]
    },
    {
     "name": "stdout",
     "output_type": "stream",
     "text": [
      "..\\raw_data\\9.15 Cell Growth\\20190915_Sensor3_Test_125.xlsx\n",
      "..\\raw_data\\9.15 Cell Growth\\20190915_Sensor3_Test_126.xlsx\n",
      "..\\raw_data\\9.15 Cell Growth\\20190915_Sensor3_Test_127.xlsx\n",
      "..\\raw_data\\9.15 Cell Growth\\20190915_Sensor3_Test_128.xlsx\n"
     ]
    },
    {
     "name": "stderr",
     "output_type": "stream",
     "text": [
      " 79%|███████▉  | 564/710 [00:39<00:10, 13.99it/s]"
     ]
    },
    {
     "name": "stdout",
     "output_type": "stream",
     "text": [
      "..\\raw_data\\9.15 Cell Growth\\20190915_Sensor3_Test_129.xlsx\n",
      "..\\raw_data\\9.15 Cell Growth\\20190915_Sensor3_Test_13.xlsx\n",
      "..\\raw_data\\9.15 Cell Growth\\20190915_Sensor3_Test_130.xlsx\n"
     ]
    },
    {
     "name": "stderr",
     "output_type": "stream",
     "text": [
      " 80%|████████  | 568/710 [00:39<00:09, 15.06it/s]"
     ]
    },
    {
     "name": "stdout",
     "output_type": "stream",
     "text": [
      "..\\raw_data\\9.15 Cell Growth\\20190915_Sensor3_Test_131.xlsx\n",
      "..\\raw_data\\9.15 Cell Growth\\20190915_Sensor3_Test_132.xlsx\n",
      "..\\raw_data\\9.15 Cell Growth\\20190915_Sensor3_Test_133.xlsx\n"
     ]
    },
    {
     "name": "stderr",
     "output_type": "stream",
     "text": [
      " 80%|████████  | 570/710 [00:39<00:09, 15.23it/s]"
     ]
    },
    {
     "name": "stdout",
     "output_type": "stream",
     "text": [
      "..\\raw_data\\9.15 Cell Growth\\20190915_Sensor3_Test_134.xlsx\n",
      "..\\raw_data\\9.15 Cell Growth\\20190915_Sensor3_Test_135.xlsx\n",
      "..\\raw_data\\9.15 Cell Growth\\20190915_Sensor3_Test_136.xlsx\n",
      "..\\raw_data\\9.15 Cell Growth\\20190915_Sensor3_Test_137.xlsx\n"
     ]
    },
    {
     "name": "stderr",
     "output_type": "stream",
     "text": [
      " 81%|████████  | 574/710 [00:39<00:09, 13.85it/s]"
     ]
    },
    {
     "name": "stdout",
     "output_type": "stream",
     "text": [
      "..\\raw_data\\9.15 Cell Growth\\20190915_Sensor3_Test_138.xlsx\n",
      "..\\raw_data\\9.15 Cell Growth\\20190915_Sensor3_Test_139.xlsx\n",
      "..\\raw_data\\9.15 Cell Growth\\20190915_Sensor3_Test_14.xlsx\n"
     ]
    },
    {
     "name": "stderr",
     "output_type": "stream",
     "text": [
      " 81%|████████  | 576/710 [00:39<00:09, 13.79it/s]"
     ]
    },
    {
     "name": "stdout",
     "output_type": "stream",
     "text": [
      "..\\raw_data\\9.15 Cell Growth\\20190915_Sensor3_Test_140.xlsx\n",
      "..\\raw_data\\9.15 Cell Growth\\20190915_Sensor3_Test_141.xlsx\n",
      "..\\raw_data\\9.15 Cell Growth\\20190915_Sensor3_Test_142.xlsx\n"
     ]
    },
    {
     "name": "stderr",
     "output_type": "stream",
     "text": [
      " 82%|████████▏ | 580/710 [00:40<00:09, 13.96it/s]"
     ]
    },
    {
     "name": "stdout",
     "output_type": "stream",
     "text": [
      "..\\raw_data\\9.15 Cell Growth\\20190915_Sensor3_Test_143.xlsx\n",
      "..\\raw_data\\9.15 Cell Growth\\20190915_Sensor3_Test_144.xlsx\n",
      "..\\raw_data\\9.15 Cell Growth\\20190915_Sensor3_Test_145.xlsx\n",
      "..\\raw_data\\9.15 Cell Growth\\20190915_Sensor3_Test_146.xlsx\n"
     ]
    },
    {
     "name": "stderr",
     "output_type": "stream",
     "text": [
      " 82%|████████▏ | 584/710 [00:40<00:08, 14.77it/s]"
     ]
    },
    {
     "name": "stdout",
     "output_type": "stream",
     "text": [
      "..\\raw_data\\9.15 Cell Growth\\20190915_Sensor3_Test_147.xlsx\n",
      "..\\raw_data\\9.15 Cell Growth\\20190915_Sensor3_Test_148.xlsx\n",
      "..\\raw_data\\9.15 Cell Growth\\20190915_Sensor3_Test_149.xlsx\n",
      "..\\raw_data\\9.15 Cell Growth\\20190915_Sensor3_Test_15.xlsx\n"
     ]
    },
    {
     "name": "stderr",
     "output_type": "stream",
     "text": [
      " 83%|████████▎ | 588/710 [00:40<00:07, 15.40it/s]"
     ]
    },
    {
     "name": "stdout",
     "output_type": "stream",
     "text": [
      "..\\raw_data\\9.15 Cell Growth\\20190915_Sensor3_Test_150.xlsx\n",
      "..\\raw_data\\9.15 Cell Growth\\20190915_Sensor3_Test_151.xlsx\n",
      "..\\raw_data\\9.15 Cell Growth\\20190915_Sensor3_Test_152.xlsx\n",
      "..\\raw_data\\9.15 Cell Growth\\20190915_Sensor3_Test_153.xlsx\n"
     ]
    },
    {
     "name": "stderr",
     "output_type": "stream",
     "text": [
      " 83%|████████▎ | 592/710 [00:40<00:08, 13.61it/s]"
     ]
    },
    {
     "name": "stdout",
     "output_type": "stream",
     "text": [
      "..\\raw_data\\9.15 Cell Growth\\20190915_Sensor3_Test_154.xlsx\n",
      "..\\raw_data\\9.15 Cell Growth\\20190915_Sensor3_Test_155.xlsx\n",
      "..\\raw_data\\9.15 Cell Growth\\20190915_Sensor3_Test_156.xlsx\n"
     ]
    },
    {
     "name": "stderr",
     "output_type": "stream",
     "text": [
      " 84%|████████▎ | 594/710 [00:41<00:09, 12.35it/s]"
     ]
    },
    {
     "name": "stdout",
     "output_type": "stream",
     "text": [
      "..\\raw_data\\9.15 Cell Growth\\20190915_Sensor3_Test_157.xlsx\n",
      "..\\raw_data\\9.15 Cell Growth\\20190915_Sensor3_Test_158.xlsx\n",
      "..\\raw_data\\9.15 Cell Growth\\20190915_Sensor3_Test_159.xlsx"
     ]
    },
    {
     "name": "stderr",
     "output_type": "stream",
     "text": [
      " 84%|████████▍ | 596/710 [00:41<00:09, 11.99it/s]"
     ]
    },
    {
     "name": "stdout",
     "output_type": "stream",
     "text": [
      "\n",
      "..\\raw_data\\9.15 Cell Growth\\20190915_Sensor3_Test_16.xlsx\n"
     ]
    },
    {
     "name": "stderr",
     "output_type": "stream",
     "text": [
      " 85%|████████▍ | 600/710 [00:41<00:09, 11.29it/s]"
     ]
    },
    {
     "name": "stdout",
     "output_type": "stream",
     "text": [
      "..\\raw_data\\9.15 Cell Growth\\20190915_Sensor3_Test_160.xlsx\n",
      "..\\raw_data\\9.15 Cell Growth\\20190915_Sensor3_Test_161.xlsx\n",
      "..\\raw_data\\9.15 Cell Growth\\20190915_Sensor3_Test_162.xlsx\n",
      "..\\raw_data\\9.15 Cell Growth\\20190915_Sensor3_Test_163.xlsx\n"
     ]
    },
    {
     "name": "stderr",
     "output_type": "stream",
     "text": [
      " 85%|████████▍ | 602/710 [00:41<00:08, 12.26it/s]"
     ]
    },
    {
     "name": "stdout",
     "output_type": "stream",
     "text": [
      "..\\raw_data\\9.15 Cell Growth\\20190915_Sensor3_Test_164.xlsx\n",
      "..\\raw_data\\9.15 Cell Growth\\20190915_Sensor3_Test_165.xlsx\n",
      "..\\raw_data\\9.15 Cell Growth\\20190915_Sensor3_Test_166.xlsx\n"
     ]
    },
    {
     "name": "stderr",
     "output_type": "stream",
     "text": [
      " 85%|████████▌ | 606/710 [00:42<00:07, 13.23it/s]"
     ]
    },
    {
     "name": "stdout",
     "output_type": "stream",
     "text": [
      "..\\raw_data\\9.15 Cell Growth\\20190915_Sensor3_Test_167.xlsx\n",
      "..\\raw_data\\9.15 Cell Growth\\20190915_Sensor3_Test_168.xlsx\n",
      "..\\raw_data\\9.15 Cell Growth\\20190915_Sensor3_Test_169.xlsx\n"
     ]
    },
    {
     "name": "stderr",
     "output_type": "stream",
     "text": [
      " 86%|████████▌ | 610/710 [00:42<00:07, 13.72it/s]"
     ]
    },
    {
     "name": "stdout",
     "output_type": "stream",
     "text": [
      "..\\raw_data\\9.15 Cell Growth\\20190915_Sensor3_Test_17.xlsx\n",
      "..\\raw_data\\9.15 Cell Growth\\20190915_Sensor3_Test_170.xlsx\n",
      "..\\raw_data\\9.15 Cell Growth\\20190915_Sensor3_Test_171.xlsx\n"
     ]
    },
    {
     "name": "stderr",
     "output_type": "stream",
     "text": [
      " 86%|████████▌ | 612/710 [00:42<00:06, 14.10it/s]"
     ]
    },
    {
     "name": "stdout",
     "output_type": "stream",
     "text": [
      "..\\raw_data\\9.15 Cell Growth\\20190915_Sensor3_Test_172.xlsx\n",
      "..\\raw_data\\9.15 Cell Growth\\20190915_Sensor3_Test_173.xlsx\n",
      "..\\raw_data\\9.15 Cell Growth\\20190915_Sensor3_Test_174.xlsx\n",
      "..\\raw_data\\9.15 Cell Growth\\20190915_Sensor3_Test_175.xlsx\n"
     ]
    },
    {
     "name": "stderr",
     "output_type": "stream",
     "text": [
      " 87%|████████▋ | 616/710 [00:42<00:06, 14.34it/s]"
     ]
    },
    {
     "name": "stdout",
     "output_type": "stream",
     "text": [
      "..\\raw_data\\9.15 Cell Growth\\20190915_Sensor3_Test_176.xlsx\n",
      "..\\raw_data\\9.15 Cell Growth\\20190915_Sensor3_Test_18.xlsx\n",
      "..\\raw_data\\9.15 Cell Growth\\20190915_Sensor3_Test_19.xlsx\n"
     ]
    },
    {
     "name": "stderr",
     "output_type": "stream",
     "text": [
      " 87%|████████▋ | 618/710 [00:43<00:06, 13.20it/s]"
     ]
    },
    {
     "name": "stdout",
     "output_type": "stream",
     "text": [
      "..\\raw_data\\9.15 Cell Growth\\20190915_Sensor3_Test_2.xlsx\n",
      "..\\raw_data\\9.15 Cell Growth\\20190915_Sensor3_Test_20.xlsx\n",
      "..\\raw_data\\9.15 Cell Growth\\20190915_Sensor3_Test_21.xlsx\n"
     ]
    },
    {
     "name": "stderr",
     "output_type": "stream",
     "text": [
      " 88%|████████▊ | 622/710 [00:43<00:06, 13.63it/s]"
     ]
    },
    {
     "name": "stdout",
     "output_type": "stream",
     "text": [
      "..\\raw_data\\9.15 Cell Growth\\20190915_Sensor3_Test_22.xlsx\n",
      "..\\raw_data\\9.15 Cell Growth\\20190915_Sensor3_Test_23.xlsx\n",
      "..\\raw_data\\9.15 Cell Growth\\20190915_Sensor3_Test_24.xlsx\n"
     ]
    },
    {
     "name": "stderr",
     "output_type": "stream",
     "text": [
      " 88%|████████▊ | 626/710 [00:43<00:05, 14.23it/s]"
     ]
    },
    {
     "name": "stdout",
     "output_type": "stream",
     "text": [
      "..\\raw_data\\9.15 Cell Growth\\20190915_Sensor3_Test_25.xlsx\n",
      "..\\raw_data\\9.15 Cell Growth\\20190915_Sensor3_Test_26.xlsx\n",
      "..\\raw_data\\9.15 Cell Growth\\20190915_Sensor3_Test_27.xlsx\n"
     ]
    },
    {
     "name": "stderr",
     "output_type": "stream",
     "text": [
      " 88%|████████▊ | 628/710 [00:43<00:05, 13.87it/s]"
     ]
    },
    {
     "name": "stdout",
     "output_type": "stream",
     "text": [
      "..\\raw_data\\9.15 Cell Growth\\20190915_Sensor3_Test_28.xlsx\n",
      "..\\raw_data\\9.15 Cell Growth\\20190915_Sensor3_Test_29.xlsx\n",
      "..\\raw_data\\9.15 Cell Growth\\20190915_Sensor3_Test_3.xlsx\n"
     ]
    },
    {
     "name": "stderr",
     "output_type": "stream",
     "text": [
      " 89%|████████▊ | 630/710 [00:43<00:05, 13.50it/s]"
     ]
    },
    {
     "name": "stdout",
     "output_type": "stream",
     "text": [
      "..\\raw_data\\9.15 Cell Growth\\20190915_Sensor3_Test_30.xlsx\n",
      "..\\raw_data\\9.15 Cell Growth\\20190915_Sensor3_Test_31.xlsx\n",
      "..\\raw_data\\9.15 Cell Growth\\20190915_Sensor3_Test_32.xlsx\n"
     ]
    },
    {
     "name": "stderr",
     "output_type": "stream",
     "text": [
      " 89%|████████▉ | 634/710 [00:44<00:05, 13.55it/s]"
     ]
    },
    {
     "name": "stdout",
     "output_type": "stream",
     "text": [
      "..\\raw_data\\9.15 Cell Growth\\20190915_Sensor3_Test_33.xlsx\n",
      "..\\raw_data\\9.15 Cell Growth\\20190915_Sensor3_Test_34.xlsx\n",
      "..\\raw_data\\9.15 Cell Growth\\20190915_Sensor3_Test_35.xlsx\n"
     ]
    },
    {
     "name": "stderr",
     "output_type": "stream",
     "text": [
      " 90%|████████▉ | 636/710 [00:44<00:05, 12.97it/s]"
     ]
    },
    {
     "name": "stdout",
     "output_type": "stream",
     "text": [
      "..\\raw_data\\9.15 Cell Growth\\20190915_Sensor3_Test_36.xlsx\n",
      "..\\raw_data\\9.15 Cell Growth\\20190915_Sensor3_Test_37.xlsx\n",
      "..\\raw_data\\9.15 Cell Growth\\20190915_Sensor3_Test_38.xlsx\n"
     ]
    },
    {
     "name": "stderr",
     "output_type": "stream",
     "text": [
      " 90%|████████▉ | 638/710 [00:44<00:05, 12.09it/s]"
     ]
    },
    {
     "name": "stdout",
     "output_type": "stream",
     "text": [
      "..\\raw_data\\9.15 Cell Growth\\20190915_Sensor3_Test_39.xlsx\n",
      "..\\raw_data\\9.15 Cell Growth\\20190915_Sensor3_Test_4.xlsx\n"
     ]
    },
    {
     "name": "stderr",
     "output_type": "stream",
     "text": [
      " 90%|█████████ | 640/710 [00:44<00:06, 11.03it/s]"
     ]
    },
    {
     "name": "stdout",
     "output_type": "stream",
     "text": [
      "..\\raw_data\\9.15 Cell Growth\\20190915_Sensor3_Test_40.xlsx\n",
      "..\\raw_data\\9.15 Cell Growth\\20190915_Sensor3_Test_41.xlsx\n"
     ]
    },
    {
     "name": "stderr",
     "output_type": "stream",
     "text": [
      " 90%|█████████ | 642/710 [00:45<00:06,  9.95it/s]"
     ]
    },
    {
     "name": "stdout",
     "output_type": "stream",
     "text": [
      "..\\raw_data\\9.15 Cell Growth\\20190915_Sensor3_Test_42.xlsx\n",
      "..\\raw_data\\9.15 Cell Growth\\20190915_Sensor3_Test_43.xlsx\n"
     ]
    },
    {
     "name": "stderr",
     "output_type": "stream",
     "text": [
      " 91%|█████████ | 645/710 [00:45<00:07,  8.95it/s]"
     ]
    },
    {
     "name": "stdout",
     "output_type": "stream",
     "text": [
      "..\\raw_data\\9.15 Cell Growth\\20190915_Sensor3_Test_44.xlsx\n",
      "..\\raw_data\\9.15 Cell Growth\\20190915_Sensor3_Test_45.xlsx\n"
     ]
    },
    {
     "name": "stderr",
     "output_type": "stream",
     "text": [
      " 91%|█████████ | 647/710 [00:45<00:07,  8.18it/s]"
     ]
    },
    {
     "name": "stdout",
     "output_type": "stream",
     "text": [
      "..\\raw_data\\9.15 Cell Growth\\20190915_Sensor3_Test_46.xlsx\n",
      "..\\raw_data\\9.15 Cell Growth\\20190915_Sensor3_Test_47.xlsx\n"
     ]
    },
    {
     "name": "stderr",
     "output_type": "stream",
     "text": [
      " 91%|█████████▏| 649/710 [00:45<00:07,  8.13it/s]"
     ]
    },
    {
     "name": "stdout",
     "output_type": "stream",
     "text": [
      "..\\raw_data\\9.15 Cell Growth\\20190915_Sensor3_Test_48.xlsx\n",
      "..\\raw_data\\9.15 Cell Growth\\20190915_Sensor3_Test_49.xlsx\n"
     ]
    },
    {
     "name": "stderr",
     "output_type": "stream",
     "text": [
      " 92%|█████████▏| 651/710 [00:46<00:06,  8.66it/s]"
     ]
    },
    {
     "name": "stdout",
     "output_type": "stream",
     "text": [
      "..\\raw_data\\9.15 Cell Growth\\20190915_Sensor3_Test_5.xlsx\n",
      "..\\raw_data\\9.15 Cell Growth\\20190915_Sensor3_Test_50.xlsx\n",
      "..\\raw_data\\9.15 Cell Growth\\20190915_Sensor3_Test_51.xlsx\n"
     ]
    },
    {
     "name": "stderr",
     "output_type": "stream",
     "text": [
      " 92%|█████████▏| 655/710 [00:46<00:05, 10.33it/s]"
     ]
    },
    {
     "name": "stdout",
     "output_type": "stream",
     "text": [
      "..\\raw_data\\9.15 Cell Growth\\20190915_Sensor3_Test_52.xlsx\n",
      "..\\raw_data\\9.15 Cell Growth\\20190915_Sensor3_Test_53.xlsx\n",
      "..\\raw_data\\9.15 Cell Growth\\20190915_Sensor3_Test_54.xlsx\n"
     ]
    },
    {
     "name": "stderr",
     "output_type": "stream",
     "text": [
      " 93%|█████████▎| 659/710 [00:46<00:04, 11.71it/s]"
     ]
    },
    {
     "name": "stdout",
     "output_type": "stream",
     "text": [
      "..\\raw_data\\9.15 Cell Growth\\20190915_Sensor3_Test_55.xlsx\n",
      "..\\raw_data\\9.15 Cell Growth\\20190915_Sensor3_Test_56.xlsx\n",
      "..\\raw_data\\9.15 Cell Growth\\20190915_Sensor3_Test_57.xlsx\n"
     ]
    },
    {
     "name": "stderr",
     "output_type": "stream",
     "text": [
      " 93%|█████████▎| 661/710 [00:46<00:04, 12.18it/s]"
     ]
    },
    {
     "name": "stdout",
     "output_type": "stream",
     "text": [
      "..\\raw_data\\9.15 Cell Growth\\20190915_Sensor3_Test_58.xlsx\n",
      "..\\raw_data\\9.15 Cell Growth\\20190915_Sensor3_Test_59.xlsx\n",
      "..\\raw_data\\9.15 Cell Growth\\20190915_Sensor3_Test_6.xlsx\n"
     ]
    },
    {
     "name": "stderr",
     "output_type": "stream",
     "text": [
      " 93%|█████████▎| 663/710 [00:47<00:03, 11.76it/s]"
     ]
    },
    {
     "name": "stdout",
     "output_type": "stream",
     "text": [
      "..\\raw_data\\9.15 Cell Growth\\20190915_Sensor3_Test_60.xlsx\n",
      "..\\raw_data\\9.15 Cell Growth\\20190915_Sensor3_Test_61.xlsx\n",
      "..\\raw_data\\9.15 Cell Growth\\20190915_Sensor3_Test_62.xlsx\n"
     ]
    },
    {
     "name": "stderr",
     "output_type": "stream",
     "text": [
      " 94%|█████████▍| 667/710 [00:47<00:03, 12.86it/s]"
     ]
    },
    {
     "name": "stdout",
     "output_type": "stream",
     "text": [
      "..\\raw_data\\9.15 Cell Growth\\20190915_Sensor3_Test_63.xlsx\n",
      "..\\raw_data\\9.15 Cell Growth\\20190915_Sensor3_Test_64.xlsx\n",
      "..\\raw_data\\9.15 Cell Growth\\20190915_Sensor3_Test_65.xlsx\n"
     ]
    },
    {
     "name": "stderr",
     "output_type": "stream",
     "text": [
      " 94%|█████████▍| 669/710 [00:47<00:03, 13.14it/s]"
     ]
    },
    {
     "name": "stdout",
     "output_type": "stream",
     "text": [
      "..\\raw_data\\9.15 Cell Growth\\20190915_Sensor3_Test_66.xlsx\n",
      "..\\raw_data\\9.15 Cell Growth\\20190915_Sensor3_Test_67.xlsx\n",
      "..\\raw_data\\9.15 Cell Growth\\20190915_Sensor3_Test_68.xlsx\n"
     ]
    },
    {
     "name": "stderr",
     "output_type": "stream",
     "text": [
      " 95%|█████████▍| 673/710 [00:47<00:02, 13.40it/s]"
     ]
    },
    {
     "name": "stdout",
     "output_type": "stream",
     "text": [
      "..\\raw_data\\9.15 Cell Growth\\20190915_Sensor3_Test_69.xlsx\n",
      "..\\raw_data\\9.15 Cell Growth\\20190915_Sensor3_Test_7.xlsx\n",
      "..\\raw_data\\9.15 Cell Growth\\20190915_Sensor3_Test_70.xlsx\n"
     ]
    },
    {
     "name": "stderr",
     "output_type": "stream",
     "text": [
      " 95%|█████████▌| 675/710 [00:48<00:02, 12.90it/s]"
     ]
    },
    {
     "name": "stdout",
     "output_type": "stream",
     "text": [
      "..\\raw_data\\9.15 Cell Growth\\20190915_Sensor3_Test_71.xlsx\n",
      "..\\raw_data\\9.15 Cell Growth\\20190915_Sensor3_Test_72.xlsx\n",
      "..\\raw_data\\9.15 Cell Growth\\20190915_Sensor3_Test_73.xlsx\n"
     ]
    },
    {
     "name": "stderr",
     "output_type": "stream",
     "text": [
      " 96%|█████████▌| 679/710 [00:48<00:02, 13.70it/s]"
     ]
    },
    {
     "name": "stdout",
     "output_type": "stream",
     "text": [
      "..\\raw_data\\9.15 Cell Growth\\20190915_Sensor3_Test_74.xlsx\n",
      "..\\raw_data\\9.15 Cell Growth\\20190915_Sensor3_Test_75.xlsx\n",
      "..\\raw_data\\9.15 Cell Growth\\20190915_Sensor3_Test_76.xlsx\n"
     ]
    },
    {
     "name": "stderr",
     "output_type": "stream",
     "text": [
      " 96%|█████████▌| 681/710 [00:48<00:02, 13.94it/s]"
     ]
    },
    {
     "name": "stdout",
     "output_type": "stream",
     "text": [
      "..\\raw_data\\9.15 Cell Growth\\20190915_Sensor3_Test_77.xlsx\n",
      "..\\raw_data\\9.15 Cell Growth\\20190915_Sensor3_Test_78.xlsx\n",
      "..\\raw_data\\9.15 Cell Growth\\20190915_Sensor3_Test_79.xlsx\n"
     ]
    },
    {
     "name": "stderr",
     "output_type": "stream",
     "text": [
      " 96%|█████████▋| 685/710 [00:48<00:01, 13.86it/s]"
     ]
    },
    {
     "name": "stdout",
     "output_type": "stream",
     "text": [
      "..\\raw_data\\9.15 Cell Growth\\20190915_Sensor3_Test_8.xlsx\n",
      "..\\raw_data\\9.15 Cell Growth\\20190915_Sensor3_Test_80.xlsx\n",
      "..\\raw_data\\9.15 Cell Growth\\20190915_Sensor3_Test_81.xlsx\n"
     ]
    },
    {
     "name": "stderr",
     "output_type": "stream",
     "text": [
      " 97%|█████████▋| 687/710 [00:48<00:01, 13.89it/s]"
     ]
    },
    {
     "name": "stdout",
     "output_type": "stream",
     "text": [
      "..\\raw_data\\9.15 Cell Growth\\20190915_Sensor3_Test_82.xlsx\n",
      "..\\raw_data\\9.15 Cell Growth\\20190915_Sensor3_Test_83.xlsx\n",
      "..\\raw_data\\9.15 Cell Growth\\20190915_Sensor3_Test_84.xlsx\n"
     ]
    },
    {
     "name": "stderr",
     "output_type": "stream",
     "text": [
      " 97%|█████████▋| 691/710 [00:49<00:01, 13.85it/s]"
     ]
    },
    {
     "name": "stdout",
     "output_type": "stream",
     "text": [
      "..\\raw_data\\9.15 Cell Growth\\20190915_Sensor3_Test_85.xlsx\n",
      "..\\raw_data\\9.15 Cell Growth\\20190915_Sensor3_Test_86.xlsx\n",
      "..\\raw_data\\9.15 Cell Growth\\20190915_Sensor3_Test_87.xlsx\n"
     ]
    },
    {
     "name": "stderr",
     "output_type": "stream",
     "text": [
      " 98%|█████████▊| 693/710 [00:49<00:01, 12.86it/s]"
     ]
    },
    {
     "name": "stdout",
     "output_type": "stream",
     "text": [
      "..\\raw_data\\9.15 Cell Growth\\20190915_Sensor3_Test_88.xlsx\n",
      "..\\raw_data\\9.15 Cell Growth\\20190915_Sensor3_Test_89.xlsx\n",
      "..\\raw_data\\9.15 Cell Growth\\20190915_Sensor3_Test_9.xlsx\n"
     ]
    },
    {
     "name": "stderr",
     "output_type": "stream",
     "text": [
      " 98%|█████████▊| 697/710 [00:49<00:00, 13.32it/s]"
     ]
    },
    {
     "name": "stdout",
     "output_type": "stream",
     "text": [
      "..\\raw_data\\9.15 Cell Growth\\20190915_Sensor3_Test_90.xlsx\n",
      "..\\raw_data\\9.15 Cell Growth\\20190915_Sensor3_Test_91.xlsx\n",
      "..\\raw_data\\9.15 Cell Growth\\20190915_Sensor3_Test_92.xlsx\n"
     ]
    },
    {
     "name": "stderr",
     "output_type": "stream",
     "text": [
      " 99%|█████████▊| 701/710 [00:49<00:00, 13.85it/s]"
     ]
    },
    {
     "name": "stdout",
     "output_type": "stream",
     "text": [
      "..\\raw_data\\9.15 Cell Growth\\20190915_Sensor3_Test_93.xlsx\n",
      "..\\raw_data\\9.15 Cell Growth\\20190915_Sensor3_Test_94.xlsx\n",
      "..\\raw_data\\9.15 Cell Growth\\20190915_Sensor3_Test_95.xlsx\n"
     ]
    },
    {
     "name": "stderr",
     "output_type": "stream",
     "text": [
      " 99%|█████████▉| 703/710 [00:50<00:00, 13.99it/s]"
     ]
    },
    {
     "name": "stdout",
     "output_type": "stream",
     "text": [
      "..\\raw_data\\9.15 Cell Growth\\20190915_Sensor3_Test_96.xlsx\n",
      "..\\raw_data\\9.15 Cell Growth\\20190915_Sensor3_Test_97.xlsx\n",
      "..\\raw_data\\9.15 Cell Growth\\20190915_Sensor3_Test_98.xlsx\n"
     ]
    },
    {
     "name": "stderr",
     "output_type": "stream",
     "text": [
      "100%|██████████| 710/710 [00:50<00:00, 14.14it/s]"
     ]
    },
    {
     "name": "stdout",
     "output_type": "stream",
     "text": [
      "..\\raw_data\\9.15 Cell Growth\\20190915_Sensor3_Test_99.xlsx\n"
     ]
    },
    {
     "name": "stderr",
     "output_type": "stream",
     "text": [
      "\n"
     ]
    }
   ],
   "source": [
    "pr.process_raw_all('..\\\\raw_data\\\\'+'9.15 Cell Growth')"
   ]
  },
  {
   "cell_type": "code",
   "execution_count": null,
   "metadata": {},
   "outputs": [],
   "source": []
  }
 ],
 "metadata": {
  "interpreter": {
   "hash": "8d7a998b84aea405bb4ea638961cbe17196284fc649d7085c80a4661f3085669"
  },
  "kernelspec": {
   "display_name": "Python 3.8.12 64-bit ('base': conda)",
   "name": "python3"
  },
  "language_info": {
   "codemirror_mode": {
    "name": "ipython",
    "version": 3
   },
   "file_extension": ".py",
   "mimetype": "text/x-python",
   "name": "python",
   "nbconvert_exporter": "python",
   "pygments_lexer": "ipython3",
   "version": "3.8.12"
  },
  "orig_nbformat": 4
 },
 "nbformat": 4,
 "nbformat_minor": 2
}
